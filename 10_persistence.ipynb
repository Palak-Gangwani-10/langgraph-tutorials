{
 "cells": [
  {
   "cell_type": "code",
   "execution_count": 1,
   "id": "6e9122c6",
   "metadata": {},
   "outputs": [],
   "source": [
    "from langgraph.graph import StateGraph, START, END\n",
    "from typing import TypedDict\n",
    "from langchain_groq import ChatGroq\n",
    "from dotenv import load_dotenv\n",
    "from langgraph.checkpoint.memory import InMemorySaver\n",
    "import os"
   ]
  },
  {
   "cell_type": "code",
   "execution_count": 2,
   "id": "24ddbb97",
   "metadata": {},
   "outputs": [
    {
     "data": {
      "text/plain": [
       "True"
      ]
     },
     "execution_count": 2,
     "metadata": {},
     "output_type": "execute_result"
    }
   ],
   "source": [
    "load_dotenv()"
   ]
  },
  {
   "cell_type": "code",
   "execution_count": 3,
   "id": "7b2adff6",
   "metadata": {},
   "outputs": [],
   "source": [
    "groq_key = os.environ[\"GROQ_API_KEY\"]"
   ]
  },
  {
   "cell_type": "code",
   "execution_count": 4,
   "id": "5f578228",
   "metadata": {},
   "outputs": [],
   "source": [
    "# Create model\n",
    "model = ChatGroq(\n",
    "    api_key=groq_key,\n",
    "    model=\"llama3-70b-8192\"\n",
    ")\n"
   ]
  },
  {
   "cell_type": "code",
   "execution_count": 5,
   "id": "14c8547e",
   "metadata": {},
   "outputs": [],
   "source": [
    "class JokeState(TypedDict):\n",
    "\n",
    "    topic: str\n",
    "    joke: str\n",
    "    explanation: str"
   ]
  },
  {
   "cell_type": "code",
   "execution_count": 6,
   "id": "0d8066ac",
   "metadata": {},
   "outputs": [],
   "source": [
    "def generate_joke(state: JokeState):\n",
    "\n",
    "    prompt = f'generate a joke on the topic {state[\"topic\"]}'\n",
    "    response =model.invoke(prompt).content\n",
    "\n",
    "    return {'joke': response}"
   ]
  },
  {
   "cell_type": "code",
   "execution_count": 7,
   "id": "31e09b7a",
   "metadata": {},
   "outputs": [],
   "source": [
    "def generate_explanation(state: JokeState):\n",
    "\n",
    "    prompt = f'write an explanation for the joke - {state[\"joke\"]}'\n",
    "    response = model.invoke(prompt).content\n",
    "\n",
    "    return {'explanation': response}"
   ]
  },
  {
   "cell_type": "code",
   "execution_count": 8,
   "id": "672ef4a4",
   "metadata": {},
   "outputs": [],
   "source": [
    "graph = StateGraph(JokeState)\n",
    "\n",
    "graph.add_node('generate_joke', generate_joke)\n",
    "graph.add_node('generate_explanation', generate_explanation)\n",
    "\n",
    "graph.add_edge(START, 'generate_joke')\n",
    "graph.add_edge('generate_joke', 'generate_explanation')\n",
    "graph.add_edge('generate_explanation', END)\n",
    "\n",
    "checkpointer = InMemorySaver()\n",
    "\n",
    "workflow = graph.compile(checkpointer=checkpointer)"
   ]
  },
  {
   "cell_type": "code",
   "execution_count": 9,
   "id": "2608fade",
   "metadata": {},
   "outputs": [
    {
     "data": {
      "image/png": "[encoded data removed]",
      "text/plain": [
       "<langgraph.graph.state.CompiledStateGraph object at 0x0000020A7D664440>"
      ]
     },
     "execution_count": 9,
     "metadata": {},
     "output_type": "execute_result"
    }
   ],
   "source": [
    "workflow"
   ]
  },
  {
   "cell_type": "code",
   "execution_count": 10,
   "id": "c947ec87",
   "metadata": {},
   "outputs": [
    {
     "data": {
      "text/plain": [
       "{'topic': 'pizza',\n",
       " 'joke': \"Here's one:\\n\\nWhy was the pizza in a bad mood?\\n\\nBecause it was feeling a little crusty!\\n\\nHope that made you laugh!\",\n",
       " 'explanation': 'Let me break down the joke for you:\\n\\nThe joke is a play on words, using a pun to create humor. Here\\'s how it works:\\n\\nThe setup for the joke is \"Why was the pizza in a bad mood?\" which implies that the pizza is experiencing some kind of emotional distress.\\n\\nThe punchline \"Because it was feeling a little crusty!\" is where the pun comes in. \"Crusty\" has a double meaning here:\\n\\n1. In baking, the crust refers to the outer layer of a bread or pastry, including pizza. So, in this context, \"crusty\" could literally mean that the pizza\\'s crust is in a bad state (e.g., burnt, stale, etc.).\\n2. However, \"crusty\" is also an adjective that can be used to describe someone or something that is irritable, grumpy, or ill-tempered. For example, \"He\\'s been feeling crusty all day, don\\'t talk to him.\"\\n\\nThe joke relies on the unexpected twist of the word \"crusty\" from a literal baking context to a figurative emotional state. It\\'s a lighthearted and silly pun that creates a humorous connection between the pizza\\'s physical properties and its supposed emotional state.\\n\\nSo, when you hear the punchline, your brain quickly switches from thinking about the pizza\\'s physical crust to the idea that the pizza is feeling grumpy, which creates the comedic effect!'}"
      ]
     },
     "execution_count": 10,
     "metadata": {},
     "output_type": "execute_result"
    }
   ],
   "source": [
    "config1 = {\"configurable\": {\"thread_id\": \"1\"}}\n",
    "workflow.invoke({'topic':'pizza'}, config=config1)"
   ]
  },
  {
   "cell_type": "code",
   "execution_count": 11,
   "id": "4f2e6fc1",
   "metadata": {},
   "outputs": [
    {
     "data": {
      "text/plain": [
       "StateSnapshot(values={'topic': 'pizza', 'joke': \"Here's one:\\n\\nWhy was the pizza in a bad mood?\\n\\nBecause it was feeling a little crusty!\\n\\nHope that made you laugh!\", 'explanation': 'Let me break down the joke for you:\\n\\nThe joke is a play on words, using a pun to create humor. Here\\'s how it works:\\n\\nThe setup for the joke is \"Why was the pizza in a bad mood?\" which implies that the pizza is experiencing some kind of emotional distress.\\n\\nThe punchline \"Because it was feeling a little crusty!\" is where the pun comes in. \"Crusty\" has a double meaning here:\\n\\n1. In baking, the crust refers to the outer layer of a bread or pastry, including pizza. So, in this context, \"crusty\" could literally mean that the pizza\\'s crust is in a bad state (e.g., burnt, stale, etc.).\\n2. However, \"crusty\" is also an adjective that can be used to describe someone or something that is irritable, grumpy, or ill-tempered. For example, \"He\\'s been feeling crusty all day, don\\'t talk to him.\"\\n\\nThe joke relies on the unexpected twist of the word \"crusty\" from a literal baking context to a figurative emotional state. It\\'s a lighthearted and silly pun that creates a humorous connection between the pizza\\'s physical properties and its supposed emotional state.\\n\\nSo, when you hear the punchline, your brain quickly switches from thinking about the pizza\\'s physical crust to the idea that the pizza is feeling grumpy, which creates the comedic effect!'}, next=(), config={'configurable': {'thread_id': '1', 'checkpoint_ns': '', 'checkpoint_id': '1f078322-522c-698c-8002-cb8eaa3a4034'}}, metadata={'source': 'loop', 'step': 2, 'parents': {}, 'thread_id': '1'}, created_at='2025-08-13T10:42:01.521960+00:00', parent_config={'configurable': {'thread_id': '1', 'checkpoint_ns': '', 'checkpoint_id': '1f078322-4332-6d57-8001-22d0cff5211b'}}, tasks=(), interrupts=())"
      ]
     },
     "execution_count": 11,
     "metadata": {},
     "output_type": "execute_result"
    }
   ],
   "source": [
    "workflow.get_state(config1)"
   ]
  },
  {
   "cell_type": "code",
   "execution_count": 12,
   "id": "abc219db",
   "metadata": {},
   "outputs": [
    {
     "data": {
      "text/plain": [
       "[StateSnapshot(values={'topic': 'pizza', 'joke': \"Here's one:\\n\\nWhy was the pizza in a bad mood?\\n\\nBecause it was feeling a little crusty!\\n\\nHope that made you laugh!\", 'explanation': 'Let me break down the joke for you:\\n\\nThe joke is a play on words, using a pun to create humor. Here\\'s how it works:\\n\\nThe setup for the joke is \"Why was the pizza in a bad mood?\" which implies that the pizza is experiencing some kind of emotional distress.\\n\\nThe punchline \"Because it was feeling a little crusty!\" is where the pun comes in. \"Crusty\" has a double meaning here:\\n\\n1. In baking, the crust refers to the outer layer of a bread or pastry, including pizza. So, in this context, \"crusty\" could literally mean that the pizza\\'s crust is in a bad state (e.g., burnt, stale, etc.).\\n2. However, \"crusty\" is also an adjective that can be used to describe someone or something that is irritable, grumpy, or ill-tempered. For example, \"He\\'s been feeling crusty all day, don\\'t talk to him.\"\\n\\nThe joke relies on the unexpected twist of the word \"crusty\" from a literal baking context to a figurative emotional state. It\\'s a lighthearted and silly pun that creates a humorous connection between the pizza\\'s physical properties and its supposed emotional state.\\n\\nSo, when you hear the punchline, your brain quickly switches from thinking about the pizza\\'s physical crust to the idea that the pizza is feeling grumpy, which creates the comedic effect!'}, next=(), config={'configurable': {'thread_id': '1', 'checkpoint_ns': '', 'checkpoint_id': '1f078322-522c-698c-8002-cb8eaa3a4034'}}, metadata={'source': 'loop', 'step': 2, 'parents': {}, 'thread_id': '1'}, created_at='2025-08-13T10:42:01.521960+00:00', parent_config={'configurable': {'thread_id': '1', 'checkpoint_ns': '', 'checkpoint_id': '1f078322-4332-6d57-8001-22d0cff5211b'}}, tasks=(), interrupts=()),\n",
       " StateSnapshot(values={'topic': 'pizza', 'joke': \"Here's one:\\n\\nWhy was the pizza in a bad mood?\\n\\nBecause it was feeling a little crusty!\\n\\nHope that made you laugh!\"}, next=('generate_explanation',), config={'configurable': {'thread_id': '1', 'checkpoint_ns': '', 'checkpoint_id': '1f078322-4332-6d57-8001-22d0cff5211b'}}, metadata={'source': 'loop', 'step': 1, 'parents': {}, 'thread_id': '1'}, created_at='2025-08-13T10:41:59.951629+00:00', parent_config={'configurable': {'thread_id': '1', 'checkpoint_ns': '', 'checkpoint_id': '1f078322-3dd7-63da-8000-fe096b4aacb5'}}, tasks=(PregelTask(id='1e93f127-ffca-4797-d15d-b86ba327f923', name='generate_explanation', path=('__pregel_pull', 'generate_explanation'), error=None, interrupts=(), state=None, result={'explanation': 'Let me break down the joke for you:\\n\\nThe joke is a play on words, using a pun to create humor. Here\\'s how it works:\\n\\nThe setup for the joke is \"Why was the pizza in a bad mood?\" which implies that the pizza is experiencing some kind of emotional distress.\\n\\nThe punchline \"Because it was feeling a little crusty!\" is where the pun comes in. \"Crusty\" has a double meaning here:\\n\\n1. In baking, the crust refers to the outer layer of a bread or pastry, including pizza. So, in this context, \"crusty\" could literally mean that the pizza\\'s crust is in a bad state (e.g., burnt, stale, etc.).\\n2. However, \"crusty\" is also an adjective that can be used to describe someone or something that is irritable, grumpy, or ill-tempered. For example, \"He\\'s been feeling crusty all day, don\\'t talk to him.\"\\n\\nThe joke relies on the unexpected twist of the word \"crusty\" from a literal baking context to a figurative emotional state. It\\'s a lighthearted and silly pun that creates a humorous connection between the pizza\\'s physical properties and its supposed emotional state.\\n\\nSo, when you hear the punchline, your brain quickly switches from thinking about the pizza\\'s physical crust to the idea that the pizza is feeling grumpy, which creates the comedic effect!'}),), interrupts=()),\n",
       " StateSnapshot(values={'topic': 'pizza'}, next=('generate_joke',), config={'configurable': {'thread_id': '1', 'checkpoint_ns': '', 'checkpoint_id': '1f078322-3dd7-63da-8000-fe096b4aacb5'}}, metadata={'source': 'loop', 'step': 0, 'parents': {}, 'thread_id': '1'}, created_at='2025-08-13T10:41:59.389866+00:00', parent_config={'configurable': {'thread_id': '1', 'checkpoint_ns': '', 'checkpoint_id': '1f078322-3dd2-6c5f-bfff-19f5b74ef211'}}, tasks=(PregelTask(id='5b36ba33-a034-2ad3-0c7e-f4f7fb97ae35', name='generate_joke', path=('__pregel_pull', 'generate_joke'), error=None, interrupts=(), state=None, result={'joke': \"Here's one:\\n\\nWhy was the pizza in a bad mood?\\n\\nBecause it was feeling a little crusty!\\n\\nHope that made you laugh!\"}),), interrupts=()),\n",
       " StateSnapshot(values={}, next=('__start__',), config={'configurable': {'thread_id': '1', 'checkpoint_ns': '', 'checkpoint_id': '1f078322-3dd2-6c5f-bfff-19f5b74ef211'}}, metadata={'source': 'input', 'step': -1, 'parents': {}, 'thread_id': '1'}, created_at='2025-08-13T10:41:59.388050+00:00', parent_config=None, tasks=(PregelTask(id='bdf176e1-4ea9-d687-a0e0-36b7d69fe905', name='__start__', path=('__pregel_pull', '__start__'), error=None, interrupts=(), state=None, result={'topic': 'pizza'}),), interrupts=())]"
      ]
     },
     "execution_count": 12,
     "metadata": {},
     "output_type": "execute_result"
    }
   ],
   "source": [
    "list(workflow.get_state_history(config1))"
   ]
  },
  {
   "cell_type": "code",
   "execution_count": 13,
   "id": "50e608f6",
   "metadata": {},
   "outputs": [
    {
     "data": {
      "text/plain": [
       "{'topic': 'traffic',\n",
       " 'joke': 'Why did the highway go to therapy?\\n\\nBecause it was feeling a little \"congested\" and had a lot of \"road rage\" issues to work through!',\n",
       " 'explanation': 'A clever play on words!\\n\\nThe joke is a pun that exploits the double meaning of two phrases commonly associated with highways and traffic:\\n\\n1. \"Congested\" - In a medical context, \"congested\" refers to a physical blockage or overcrowding, often used to describe a stuffy nose or a crowded area. In a traffic context, \"congested\" describes a highway or road that is overcrowded with vehicles, leading to slow traffic or a traffic jam.\\n2. \"Road rage\" - This phrase typically refers to aggressive or violent behavior by a driver, often resulting from frustration or anger while driving.\\n\\nIn the joke, the highway is personified, going to therapy to work through its emotional issues. The punchline cleverly uses the traffic-related meanings of \"congested\" and \"road rage\" to create a humorous connection between the highway\\'s physical state (congested with traffic) and its emotional state (needing therapy to deal with road rage issues).\\n\\nThe joke relies on the unexpected twist of attributing human-like emotions and therapy needs to an inanimate object like a highway, making it a lighthearted and playful example of wordplay humor.'}"
      ]
     },
     "execution_count": 13,
     "metadata": {},
     "output_type": "execute_result"
    }
   ],
   "source": [
    "config2 = {\"configurable\": {\"thread_id\": \"2\"}}\n",
    "workflow.invoke({'topic':'traffic'}, config=config2)"
   ]
  },
  {
   "cell_type": "code",
   "execution_count": 14,
   "id": "f6f4c4f7",
   "metadata": {},
   "outputs": [
    {
     "data": {
      "text/plain": [
       "StateSnapshot(values={'topic': 'traffic', 'joke': 'Why did the highway go to therapy?\\n\\nBecause it was feeling a little \"congested\" and had a lot of \"road rage\" issues to work through!', 'explanation': 'A clever play on words!\\n\\nThe joke is a pun that exploits the double meaning of two phrases commonly associated with highways and traffic:\\n\\n1. \"Congested\" - In a medical context, \"congested\" refers to a physical blockage or overcrowding, often used to describe a stuffy nose or a crowded area. In a traffic context, \"congested\" describes a highway or road that is overcrowded with vehicles, leading to slow traffic or a traffic jam.\\n2. \"Road rage\" - This phrase typically refers to aggressive or violent behavior by a driver, often resulting from frustration or anger while driving.\\n\\nIn the joke, the highway is personified, going to therapy to work through its emotional issues. The punchline cleverly uses the traffic-related meanings of \"congested\" and \"road rage\" to create a humorous connection between the highway\\'s physical state (congested with traffic) and its emotional state (needing therapy to deal with road rage issues).\\n\\nThe joke relies on the unexpected twist of attributing human-like emotions and therapy needs to an inanimate object like a highway, making it a lighthearted and playful example of wordplay humor.'}, next=(), config={'configurable': {'thread_id': '2', 'checkpoint_ns': '', 'checkpoint_id': '1f0783e0-a33e-604d-8002-eff200f32ee2'}}, metadata={'source': 'loop', 'step': 2, 'parents': {}, 'thread_id': '2'}, created_at='2025-08-13T12:07:10.296215+00:00', parent_config={'configurable': {'thread_id': '2', 'checkpoint_ns': '', 'checkpoint_id': '1f0783e0-9585-60e3-8001-8cfff1b52143'}}, tasks=(), interrupts=())"
      ]
     },
     "execution_count": 14,
     "metadata": {},
     "output_type": "execute_result"
    }
   ],
   "source": [
    "workflow.get_state(config2)"
   ]
  },
  {
   "cell_type": "code",
   "execution_count": 15,
   "id": "47f133be",
   "metadata": {},
   "outputs": [
    {
     "data": {
      "text/plain": [
       "[StateSnapshot(values={'topic': 'traffic', 'joke': 'Why did the highway go to therapy?\\n\\nBecause it was feeling a little \"congested\" and had a lot of \"road rage\" issues to work through!', 'explanation': 'A clever play on words!\\n\\nThe joke is a pun that exploits the double meaning of two phrases commonly associated with highways and traffic:\\n\\n1. \"Congested\" - In a medical context, \"congested\" refers to a physical blockage or overcrowding, often used to describe a stuffy nose or a crowded area. In a traffic context, \"congested\" describes a highway or road that is overcrowded with vehicles, leading to slow traffic or a traffic jam.\\n2. \"Road rage\" - This phrase typically refers to aggressive or violent behavior by a driver, often resulting from frustration or anger while driving.\\n\\nIn the joke, the highway is personified, going to therapy to work through its emotional issues. The punchline cleverly uses the traffic-related meanings of \"congested\" and \"road rage\" to create a humorous connection between the highway\\'s physical state (congested with traffic) and its emotional state (needing therapy to deal with road rage issues).\\n\\nThe joke relies on the unexpected twist of attributing human-like emotions and therapy needs to an inanimate object like a highway, making it a lighthearted and playful example of wordplay humor.'}, next=(), config={'configurable': {'thread_id': '2', 'checkpoint_ns': '', 'checkpoint_id': '1f0783e0-a33e-604d-8002-eff200f32ee2'}}, metadata={'source': 'loop', 'step': 2, 'parents': {}, 'thread_id': '2'}, created_at='2025-08-13T12:07:10.296215+00:00', parent_config={'configurable': {'thread_id': '2', 'checkpoint_ns': '', 'checkpoint_id': '1f0783e0-9585-60e3-8001-8cfff1b52143'}}, tasks=(), interrupts=()),\n",
       " StateSnapshot(values={'topic': 'traffic', 'joke': 'Why did the highway go to therapy?\\n\\nBecause it was feeling a little \"congested\" and had a lot of \"road rage\" issues to work through!'}, next=('generate_explanation',), config={'configurable': {'thread_id': '2', 'checkpoint_ns': '', 'checkpoint_id': '1f0783e0-9585-60e3-8001-8cfff1b52143'}}, metadata={'source': 'loop', 'step': 1, 'parents': {}, 'thread_id': '2'}, created_at='2025-08-13T12:07:08.857279+00:00', parent_config={'configurable': {'thread_id': '2', 'checkpoint_ns': '', 'checkpoint_id': '1f0783e0-8fad-6da4-8000-0d2eb4e6e7fb'}}, tasks=(PregelTask(id='077dd1dd-1530-13eb-7ba7-481d6d053f8c', name='generate_explanation', path=('__pregel_pull', 'generate_explanation'), error=None, interrupts=(), state=None, result={'explanation': 'A clever play on words!\\n\\nThe joke is a pun that exploits the double meaning of two phrases commonly associated with highways and traffic:\\n\\n1. \"Congested\" - In a medical context, \"congested\" refers to a physical blockage or overcrowding, often used to describe a stuffy nose or a crowded area. In a traffic context, \"congested\" describes a highway or road that is overcrowded with vehicles, leading to slow traffic or a traffic jam.\\n2. \"Road rage\" - This phrase typically refers to aggressive or violent behavior by a driver, often resulting from frustration or anger while driving.\\n\\nIn the joke, the highway is personified, going to therapy to work through its emotional issues. The punchline cleverly uses the traffic-related meanings of \"congested\" and \"road rage\" to create a humorous connection between the highway\\'s physical state (congested with traffic) and its emotional state (needing therapy to deal with road rage issues).\\n\\nThe joke relies on the unexpected twist of attributing human-like emotions and therapy needs to an inanimate object like a highway, making it a lighthearted and playful example of wordplay humor.'}),), interrupts=()),\n",
       " StateSnapshot(values={'topic': 'traffic'}, next=('generate_joke',), config={'configurable': {'thread_id': '2', 'checkpoint_ns': '', 'checkpoint_id': '1f0783e0-8fad-6da4-8000-0d2eb4e6e7fb'}}, metadata={'source': 'loop', 'step': 0, 'parents': {}, 'thread_id': '2'}, created_at='2025-08-13T12:07:08.244871+00:00', parent_config={'configurable': {'thread_id': '2', 'checkpoint_ns': '', 'checkpoint_id': '1f0783e0-8fa2-6a73-bfff-09b8df1108c4'}}, tasks=(PregelTask(id='f19584a7-9064-4749-1227-f0c97bebaa3e', name='generate_joke', path=('__pregel_pull', 'generate_joke'), error=None, interrupts=(), state=None, result={'joke': 'Why did the highway go to therapy?\\n\\nBecause it was feeling a little \"congested\" and had a lot of \"road rage\" issues to work through!'}),), interrupts=()),\n",
       " StateSnapshot(values={}, next=('__start__',), config={'configurable': {'thread_id': '2', 'checkpoint_ns': '', 'checkpoint_id': '1f0783e0-8fa2-6a73-bfff-09b8df1108c4'}}, metadata={'source': 'input', 'step': -1, 'parents': {}, 'thread_id': '2'}, created_at='2025-08-13T12:07:08.240314+00:00', parent_config=None, tasks=(PregelTask(id='7c76c33f-3e90-49a1-c2fe-bf47edae109c', name='__start__', path=('__pregel_pull', '__start__'), error=None, interrupts=(), state=None, result={'topic': 'traffic'}),), interrupts=())]"
      ]
     },
     "execution_count": 15,
     "metadata": {},
     "output_type": "execute_result"
    }
   ],
   "source": [
    "list(workflow.get_state_history(config2))"
   ]
  },
  {
   "cell_type": "markdown",
   "id": "2d5a5d25",
   "metadata": {},
   "source": [
    "Time Travel "
   ]
  },
  {
   "cell_type": "code",
   "execution_count": 17,
   "id": "a0c682c7",
   "metadata": {},
   "outputs": [
    {
     "data": {
      "text/plain": [
       "StateSnapshot(values={'topic': 'pizza', 'joke': \"Here's one:\\n\\nWhy was the pizza in a bad mood?\\n\\nBecause it was feeling a little crusty!\\n\\nHope that made you laugh!\"}, next=('generate_explanation',), config={'configurable': {'thread_id': '1', 'checkpoint_id': '1f078322-4332-6d57-8001-22d0cff5211b'}}, metadata={'source': 'loop', 'step': 1, 'parents': {}, 'thread_id': '1'}, created_at='2025-08-13T10:41:59.951629+00:00', parent_config={'configurable': {'thread_id': '1', 'checkpoint_ns': '', 'checkpoint_id': '1f078322-3dd7-63da-8000-fe096b4aacb5'}}, tasks=(PregelTask(id='1e93f127-ffca-4797-d15d-b86ba327f923', name='generate_explanation', path=('__pregel_pull', 'generate_explanation'), error=None, interrupts=(), state=None, result={'explanation': 'Let me break down the joke for you:\\n\\nThe joke is a play on words, using a pun to create humor. Here\\'s how it works:\\n\\nThe setup for the joke is \"Why was the pizza in a bad mood?\" which implies that the pizza is experiencing some kind of emotional distress.\\n\\nThe punchline \"Because it was feeling a little crusty!\" is where the pun comes in. \"Crusty\" has a double meaning here:\\n\\n1. In baking, the crust refers to the outer layer of a bread or pastry, including pizza. So, in this context, \"crusty\" could literally mean that the pizza\\'s crust is in a bad state (e.g., burnt, stale, etc.).\\n2. However, \"crusty\" is also an adjective that can be used to describe someone or something that is irritable, grumpy, or ill-tempered. For example, \"He\\'s been feeling crusty all day, don\\'t talk to him.\"\\n\\nThe joke relies on the unexpected twist of the word \"crusty\" from a literal baking context to a figurative emotional state. It\\'s a lighthearted and silly pun that creates a humorous connection between the pizza\\'s physical properties and its supposed emotional state.\\n\\nSo, when you hear the punchline, your brain quickly switches from thinking about the pizza\\'s physical crust to the idea that the pizza is feeling grumpy, which creates the comedic effect!'}),), interrupts=())"
      ]
     },
     "execution_count": 17,
     "metadata": {},
     "output_type": "execute_result"
    }
   ],
   "source": [
    "workflow.get_state({\"configurable\": {\"thread_id\":\"1\", \"checkpoint_id\":\"1f078322-4332-6d57-8001-22d0cff5211b\"}})"
   ]
  },
  {
   "cell_type": "code",
   "execution_count": 18,
   "id": "b7c41004",
   "metadata": {},
   "outputs": [
    {
     "data": {
      "text/plain": [
       "{'topic': 'pizza',\n",
       " 'joke': \"Here's one:\\n\\nWhy was the pizza in a bad mood?\\n\\nBecause it was feeling a little crusty!\\n\\nHope that made you laugh!\",\n",
       " 'explanation': 'This joke is a play on words, using the multiple meanings of the word \"crusty\" to create a pun.\\n\\nIn one sense, \"crusty\" refers to the outer layer of a bread, such as a pizza crust. So, in this context, the joke is saying that the pizza is feeling a little crusty, implying that it\\'s feeling a bit rough around the edges, like its crust.\\n\\nHowever, \"crusty\" can also mean being in a bad mood or irritable. This is the more common usage of the word in everyday language. So, when the joke says the pizza is feeling a little crusty, it\\'s also implying that the pizza is in a bad mood, which is the punchline of the joke.\\n\\nThe humor comes from the unexpected twist on the word \"crusty\" and the clever connection between the physical characteristic of a pizza (its crust) and the emotional state of being in a bad mood (being crusty). It\\'s a lighthearted and playful joke that uses wordplay to create a sense of surprise and delight.'}"
      ]
     },
     "execution_count": 18,
     "metadata": {},
     "output_type": "execute_result"
    }
   ],
   "source": [
    "workflow.invoke(None, {\"configurable\": {\"thread_id\": \"1\", \"checkpoint_id\": \"1f078322-4332-6d57-8001-22d0cff5211b\"}})"
   ]
  },
  {
   "cell_type": "markdown",
   "id": "52127f9a",
   "metadata": {},
   "source": [
    "Updating State"
   ]
  },
  {
   "cell_type": "code",
   "execution_count": 19,
   "id": "7546c9ba",
   "metadata": {},
   "outputs": [
    {
     "data": {
      "text/plain": [
       "{'configurable': {'thread_id': '1',\n",
       "  'checkpoint_ns': '',\n",
       "  'checkpoint_id': '1f07840c-2de5-6737-8000-2389d863da22'}}"
      ]
     },
     "execution_count": 19,
     "metadata": {},
     "output_type": "execute_result"
    }
   ],
   "source": [
    "workflow.update_state({\"configurable\": {\"thread_id\": \"1\", \"checkpoint_id\": \"1f078322-3dd2-6c5f-bfff-19f5b74ef211\", \"checkpoint_ns\": \"\"}}, {'topic':'GenZ'})"
   ]
  },
  {
   "cell_type": "code",
   "execution_count": 20,
   "id": "8bfebb53",
   "metadata": {},
   "outputs": [
    {
     "data": {
      "text/plain": [
       "[StateSnapshot(values={'topic': 'GenZ'}, next=('generate_joke',), config={'configurable': {'thread_id': '1', 'checkpoint_ns': '', 'checkpoint_id': '1f07840c-2de5-6737-8000-2389d863da22'}}, metadata={'source': 'update', 'step': 0, 'parents': {}, 'thread_id': '1'}, created_at='2025-08-13T12:26:39.107616+00:00', parent_config={'configurable': {'thread_id': '1', 'checkpoint_ns': '', 'checkpoint_id': '1f078322-3dd2-6c5f-bfff-19f5b74ef211'}}, tasks=(PregelTask(id='2a56405e-5c26-f666-d8b8-14ff5f49bbc6', name='generate_joke', path=('__pregel_pull', 'generate_joke'), error=None, interrupts=(), state=None, result=None),), interrupts=()),\n",
       " StateSnapshot(values={'topic': 'pizza', 'joke': \"Here's one:\\n\\nWhy was the pizza in a bad mood?\\n\\nBecause it was feeling a little crusty!\\n\\nHope that made you laugh!\", 'explanation': 'This joke is a play on words, using the multiple meanings of the word \"crusty\" to create a pun.\\n\\nIn one sense, \"crusty\" refers to the outer layer of a bread, such as a pizza crust. So, in this context, the joke is saying that the pizza is feeling a little crusty, implying that it\\'s feeling a bit rough around the edges, like its crust.\\n\\nHowever, \"crusty\" can also mean being in a bad mood or irritable. This is the more common usage of the word in everyday language. So, when the joke says the pizza is feeling a little crusty, it\\'s also implying that the pizza is in a bad mood, which is the punchline of the joke.\\n\\nThe humor comes from the unexpected twist on the word \"crusty\" and the clever connection between the physical characteristic of a pizza (its crust) and the emotional state of being in a bad mood (being crusty). It\\'s a lighthearted and playful joke that uses wordplay to create a sense of surprise and delight.'}, next=(), config={'configurable': {'thread_id': '1', 'checkpoint_ns': '', 'checkpoint_id': '1f0783f5-5f1b-684a-8002-819bd6033157'}}, metadata={'source': 'loop', 'step': 2, 'parents': {}, 'thread_id': '1'}, created_at='2025-08-13T12:16:26.866230+00:00', parent_config={'configurable': {'thread_id': '1', 'checkpoint_ns': '', 'checkpoint_id': '1f078322-4332-6d57-8001-22d0cff5211b'}}, tasks=(), interrupts=()),\n",
       " StateSnapshot(values={'topic': 'pizza', 'joke': \"Here's one:\\n\\nWhy was the pizza in a bad mood?\\n\\nBecause it was feeling a little crusty!\\n\\nHope that made you laugh!\", 'explanation': 'Let me break down the joke for you:\\n\\nThe joke is a play on words, using a pun to create humor. Here\\'s how it works:\\n\\nThe setup for the joke is \"Why was the pizza in a bad mood?\" which implies that the pizza is experiencing some kind of emotional distress.\\n\\nThe punchline \"Because it was feeling a little crusty!\" is where the pun comes in. \"Crusty\" has a double meaning here:\\n\\n1. In baking, the crust refers to the outer layer of a bread or pastry, including pizza. So, in this context, \"crusty\" could literally mean that the pizza\\'s crust is in a bad state (e.g., burnt, stale, etc.).\\n2. However, \"crusty\" is also an adjective that can be used to describe someone or something that is irritable, grumpy, or ill-tempered. For example, \"He\\'s been feeling crusty all day, don\\'t talk to him.\"\\n\\nThe joke relies on the unexpected twist of the word \"crusty\" from a literal baking context to a figurative emotional state. It\\'s a lighthearted and silly pun that creates a humorous connection between the pizza\\'s physical properties and its supposed emotional state.\\n\\nSo, when you hear the punchline, your brain quickly switches from thinking about the pizza\\'s physical crust to the idea that the pizza is feeling grumpy, which creates the comedic effect!'}, next=(), config={'configurable': {'thread_id': '1', 'checkpoint_ns': '', 'checkpoint_id': '1f078322-522c-698c-8002-cb8eaa3a4034'}}, metadata={'source': 'loop', 'step': 2, 'parents': {}, 'thread_id': '1'}, created_at='2025-08-13T10:42:01.521960+00:00', parent_config={'configurable': {'thread_id': '1', 'checkpoint_ns': '', 'checkpoint_id': '1f078322-4332-6d57-8001-22d0cff5211b'}}, tasks=(), interrupts=()),\n",
       " StateSnapshot(values={'topic': 'pizza', 'joke': \"Here's one:\\n\\nWhy was the pizza in a bad mood?\\n\\nBecause it was feeling a little crusty!\\n\\nHope that made you laugh!\"}, next=('generate_explanation',), config={'configurable': {'thread_id': '1', 'checkpoint_ns': '', 'checkpoint_id': '1f078322-4332-6d57-8001-22d0cff5211b'}}, metadata={'source': 'loop', 'step': 1, 'parents': {}, 'thread_id': '1'}, created_at='2025-08-13T10:41:59.951629+00:00', parent_config={'configurable': {'thread_id': '1', 'checkpoint_ns': '', 'checkpoint_id': '1f078322-3dd7-63da-8000-fe096b4aacb5'}}, tasks=(PregelTask(id='1e93f127-ffca-4797-d15d-b86ba327f923', name='generate_explanation', path=('__pregel_pull', 'generate_explanation'), error=None, interrupts=(), state=None, result={'explanation': 'Let me break down the joke for you:\\n\\nThe joke is a play on words, using a pun to create humor. Here\\'s how it works:\\n\\nThe setup for the joke is \"Why was the pizza in a bad mood?\" which implies that the pizza is experiencing some kind of emotional distress.\\n\\nThe punchline \"Because it was feeling a little crusty!\" is where the pun comes in. \"Crusty\" has a double meaning here:\\n\\n1. In baking, the crust refers to the outer layer of a bread or pastry, including pizza. So, in this context, \"crusty\" could literally mean that the pizza\\'s crust is in a bad state (e.g., burnt, stale, etc.).\\n2. However, \"crusty\" is also an adjective that can be used to describe someone or something that is irritable, grumpy, or ill-tempered. For example, \"He\\'s been feeling crusty all day, don\\'t talk to him.\"\\n\\nThe joke relies on the unexpected twist of the word \"crusty\" from a literal baking context to a figurative emotional state. It\\'s a lighthearted and silly pun that creates a humorous connection between the pizza\\'s physical properties and its supposed emotional state.\\n\\nSo, when you hear the punchline, your brain quickly switches from thinking about the pizza\\'s physical crust to the idea that the pizza is feeling grumpy, which creates the comedic effect!'}),), interrupts=()),\n",
       " StateSnapshot(values={'topic': 'pizza'}, next=('generate_joke',), config={'configurable': {'thread_id': '1', 'checkpoint_ns': '', 'checkpoint_id': '1f078322-3dd7-63da-8000-fe096b4aacb5'}}, metadata={'source': 'loop', 'step': 0, 'parents': {}, 'thread_id': '1'}, created_at='2025-08-13T10:41:59.389866+00:00', parent_config={'configurable': {'thread_id': '1', 'checkpoint_ns': '', 'checkpoint_id': '1f078322-3dd2-6c5f-bfff-19f5b74ef211'}}, tasks=(PregelTask(id='5b36ba33-a034-2ad3-0c7e-f4f7fb97ae35', name='generate_joke', path=('__pregel_pull', 'generate_joke'), error=None, interrupts=(), state=None, result={'joke': \"Here's one:\\n\\nWhy was the pizza in a bad mood?\\n\\nBecause it was feeling a little crusty!\\n\\nHope that made you laugh!\"}),), interrupts=()),\n",
       " StateSnapshot(values={}, next=('__start__',), config={'configurable': {'thread_id': '1', 'checkpoint_ns': '', 'checkpoint_id': '1f078322-3dd2-6c5f-bfff-19f5b74ef211'}}, metadata={'source': 'input', 'step': -1, 'parents': {}, 'thread_id': '1'}, created_at='2025-08-13T10:41:59.388050+00:00', parent_config=None, tasks=(PregelTask(id='bdf176e1-4ea9-d687-a0e0-36b7d69fe905', name='__start__', path=('__pregel_pull', '__start__'), error=None, interrupts=(), state=None, result={'topic': 'pizza'}),), interrupts=())]"
      ]
     },
     "execution_count": 20,
     "metadata": {},
     "output_type": "execute_result"
    }
   ],
   "source": [
    "list(workflow.get_state_history(config1))"
   ]
  },
  {
   "cell_type": "code",
   "execution_count": 22,
   "id": "2813757b",
   "metadata": {},
   "outputs": [
    {
     "data": {
      "text/plain": [
       "{'topic': 'GenZ',\n",
       " 'joke': 'Here\\'s one:\\n\\nWhy did the GenZer bring a ladder to the party?\\n\\nBecause they wanted to take their TikTok game to new heights...and also because they\\'re used to always having a \"step up\" on their parents',\n",
       " 'explanation': 'A clever joke! Let\\'s break it down:\\n\\nThe joke is a play on words, using the multiple meanings of \"heights\" and \"step up\" to create a pun.\\n\\nThe setup \"Why did the GenZer bring a ladder to the party?\" is straightforward, implying that the punchline will explain why someone from Generation Z (people born between 1997 and 2012) would bring a ladder to a social gathering.\\n\\nThe first part of the punchline \"they wanted to take their TikTok game to new heights\" is a wordplay on the phrase \"take it to the next level.\" In this context, \"TikTok game\" refers to the person\\'s performance or popularity on the social media platform TikTok. \"New heights\" is a literal reference to the ladder, but also a figurative expression meaning to improve or excel. The joke is saying that the GenZer wants to increase their online presence or fame on TikTok.\\n\\nThe second part of the punchline \"and also because they\\'re used to always having a \\'step up\\' on their parents\" is another wordplay. \"Step up\" has a different meaning here, referring to the idea that GenZers often feel more knowledgeable or advanced than their parents, particularly when it comes to technology and social media. This phrase is a play on words, as \"step up\" can also literally refer to climbing a ladder. The joke is saying that GenZers are accustomed to being more tech-savvy than their parents, and the ladder is a humorous representation of that advantage.\\n\\nOverall, the joke relies on the unexpected twist of the ladder being used to symbolize both the desire for online success and the perceived superiority over parents in terms of technology. It\\'s a lighthearted way to poke fun at the stereotypes surrounding GenZ and their relationships with social media and their parents.'}"
      ]
     },
     "execution_count": 22,
     "metadata": {},
     "output_type": "execute_result"
    }
   ],
   "source": [
    "workflow.invoke(None, {\"configurable\": {\"thread_id\": \"1\", \"checkpoint_id\": \"1f07840c-2de5-6737-8000-2389d863da22\"}})"
   ]
  },
  {
   "cell_type": "code",
   "execution_count": 23,
   "id": "a4f21a64",
   "metadata": {},
   "outputs": [
    {
     "data": {
      "text/plain": [
       "[StateSnapshot(values={'topic': 'GenZ', 'joke': 'Here\\'s one:\\n\\nWhy did the GenZer bring a ladder to the party?\\n\\nBecause they wanted to take their TikTok game to new heights...and also because they\\'re used to always having a \"step up\" on their parents', 'explanation': 'A clever joke! Let\\'s break it down:\\n\\nThe joke is a play on words, using the multiple meanings of \"heights\" and \"step up\" to create a pun.\\n\\nThe setup \"Why did the GenZer bring a ladder to the party?\" is straightforward, implying that the punchline will explain why someone from Generation Z (people born between 1997 and 2012) would bring a ladder to a social gathering.\\n\\nThe first part of the punchline \"they wanted to take their TikTok game to new heights\" is a wordplay on the phrase \"take it to the next level.\" In this context, \"TikTok game\" refers to the person\\'s performance or popularity on the social media platform TikTok. \"New heights\" is a literal reference to the ladder, but also a figurative expression meaning to improve or excel. The joke is saying that the GenZer wants to increase their online presence or fame on TikTok.\\n\\nThe second part of the punchline \"and also because they\\'re used to always having a \\'step up\\' on their parents\" is another wordplay. \"Step up\" has a different meaning here, referring to the idea that GenZers often feel more knowledgeable or advanced than their parents, particularly when it comes to technology and social media. This phrase is a play on words, as \"step up\" can also literally refer to climbing a ladder. The joke is saying that GenZers are accustomed to being more tech-savvy than their parents, and the ladder is a humorous representation of that advantage.\\n\\nOverall, the joke relies on the unexpected twist of the ladder being used to symbolize both the desire for online success and the perceived superiority over parents in terms of technology. It\\'s a lighthearted way to poke fun at the stereotypes surrounding GenZ and their relationships with social media and their parents.'}, next=(), config={'configurable': {'thread_id': '1', 'checkpoint_ns': '', 'checkpoint_id': '1f078422-536d-6541-8002-9ae03f199c95'}}, metadata={'source': 'loop', 'step': 2, 'parents': {}, 'thread_id': '1'}, created_at='2025-08-13T12:36:33.601008+00:00', parent_config={'configurable': {'thread_id': '1', 'checkpoint_ns': '', 'checkpoint_id': '1f078422-4173-6db5-8001-1bcb96f3a87e'}}, tasks=(), interrupts=()),\n",
       " StateSnapshot(values={'topic': 'GenZ', 'joke': 'Here\\'s one:\\n\\nWhy did the GenZer bring a ladder to the party?\\n\\nBecause they wanted to take their TikTok game to new heights...and also because they\\'re used to always having a \"step up\" on their parents'}, next=('generate_explanation',), config={'configurable': {'thread_id': '1', 'checkpoint_ns': '', 'checkpoint_id': '1f078422-4173-6db5-8001-1bcb96f3a87e'}}, metadata={'source': 'loop', 'step': 1, 'parents': {}, 'thread_id': '1'}, created_at='2025-08-13T12:36:31.716230+00:00', parent_config={'configurable': {'thread_id': '1', 'checkpoint_ns': '', 'checkpoint_id': '1f07840c-2de5-6737-8000-2389d863da22'}}, tasks=(PregelTask(id='1053f703-80fe-2781-5849-62e38e5d932e', name='generate_explanation', path=('__pregel_pull', 'generate_explanation'), error=None, interrupts=(), state=None, result={'explanation': 'A clever joke! Let\\'s break it down:\\n\\nThe joke is a play on words, using the multiple meanings of \"heights\" and \"step up\" to create a pun.\\n\\nThe setup \"Why did the GenZer bring a ladder to the party?\" is straightforward, implying that the punchline will explain why someone from Generation Z (people born between 1997 and 2012) would bring a ladder to a social gathering.\\n\\nThe first part of the punchline \"they wanted to take their TikTok game to new heights\" is a wordplay on the phrase \"take it to the next level.\" In this context, \"TikTok game\" refers to the person\\'s performance or popularity on the social media platform TikTok. \"New heights\" is a literal reference to the ladder, but also a figurative expression meaning to improve or excel. The joke is saying that the GenZer wants to increase their online presence or fame on TikTok.\\n\\nThe second part of the punchline \"and also because they\\'re used to always having a \\'step up\\' on their parents\" is another wordplay. \"Step up\" has a different meaning here, referring to the idea that GenZers often feel more knowledgeable or advanced than their parents, particularly when it comes to technology and social media. This phrase is a play on words, as \"step up\" can also literally refer to climbing a ladder. The joke is saying that GenZers are accustomed to being more tech-savvy than their parents, and the ladder is a humorous representation of that advantage.\\n\\nOverall, the joke relies on the unexpected twist of the ladder being used to symbolize both the desire for online success and the perceived superiority over parents in terms of technology. It\\'s a lighthearted way to poke fun at the stereotypes surrounding GenZ and their relationships with social media and their parents.'}),), interrupts=()),\n",
       " StateSnapshot(values={'topic': 'pizza', 'joke': \"Here's one:\\n\\nWhy was the pizza in a bad mood?\\n\\nBecause it was feeling a little crusty!\\n\\nHope that made you laugh!\", 'explanation': 'A great joke!\\n\\nHere\\'s a breakdown of why this joke is funny:\\n\\nThe joke relies on a play on words, using the multiple meanings of \"crusty\" to create a pun.\\n\\nIn one sense, \"crusty\" refers to the crispy, outer layer of a pizza, which is a key characteristic of a well-made pie.\\n\\nHowever, \"crusty\" can also mean gruff, irritable, or ill-tempered, as in someone who is \"a bit crusty\" might be in a bad mood.\\n\\nThe joke sets up the expectation that the punchline will explain why the pizza is in a bad mood, and then subverts it by using the word \"crusty\" in a way that references both the pizza\\'s composition and its emotional state. The unexpected twist creates a sense of surprise and delight, making the joke more likely to elicit a laugh.\\n\\nSo, in short, the joke is funny because it\\'s a clever play on words that uses the dual meaning of \"crusty\" to create a humorous connection between a pizza\\'s physical properties and its emotional state!'}, next=(), config={'configurable': {'thread_id': '1', 'checkpoint_ns': '', 'checkpoint_id': '1f078411-b23e-6c8d-8002-4eeda69c1e9f'}}, metadata={'source': 'loop', 'step': 2, 'parents': {}, 'thread_id': '1'}, created_at='2025-08-13T12:29:07.203118+00:00', parent_config={'configurable': {'thread_id': '1', 'checkpoint_ns': '', 'checkpoint_id': '1f078411-a6fc-673e-8001-f6cb4867d81b'}}, tasks=(), interrupts=()),\n",
       " StateSnapshot(values={'topic': 'pizza', 'joke': \"Here's one:\\n\\nWhy was the pizza in a bad mood?\\n\\nBecause it was feeling a little crusty!\\n\\nHope that made you laugh!\"}, next=('generate_explanation',), config={'configurable': {'thread_id': '1', 'checkpoint_ns': '', 'checkpoint_id': '1f078411-a6fc-673e-8001-f6cb4867d81b'}}, metadata={'source': 'loop', 'step': 1, 'parents': {}, 'thread_id': '1'}, created_at='2025-08-13T12:29:06.022521+00:00', parent_config={'configurable': {'thread_id': '1', 'checkpoint_ns': '', 'checkpoint_id': '1f078411-a214-6144-8000-51a94e30ffe1'}}, tasks=(PregelTask(id='dcc3000b-6021-5242-6b5a-f938f6a97f95', name='generate_explanation', path=('__pregel_pull', 'generate_explanation'), error=None, interrupts=(), state=None, result={'explanation': 'A great joke!\\n\\nHere\\'s a breakdown of why this joke is funny:\\n\\nThe joke relies on a play on words, using the multiple meanings of \"crusty\" to create a pun.\\n\\nIn one sense, \"crusty\" refers to the crispy, outer layer of a pizza, which is a key characteristic of a well-made pie.\\n\\nHowever, \"crusty\" can also mean gruff, irritable, or ill-tempered, as in someone who is \"a bit crusty\" might be in a bad mood.\\n\\nThe joke sets up the expectation that the punchline will explain why the pizza is in a bad mood, and then subverts it by using the word \"crusty\" in a way that references both the pizza\\'s composition and its emotional state. The unexpected twist creates a sense of surprise and delight, making the joke more likely to elicit a laugh.\\n\\nSo, in short, the joke is funny because it\\'s a clever play on words that uses the dual meaning of \"crusty\" to create a humorous connection between a pizza\\'s physical properties and its emotional state!'}),), interrupts=()),\n",
       " StateSnapshot(values={'topic': 'pizza'}, next=('generate_joke',), config={'configurable': {'thread_id': '1', 'checkpoint_ns': '', 'checkpoint_id': '1f078411-a214-6144-8000-51a94e30ffe1'}}, metadata={'source': 'loop', 'step': 0, 'parents': {}, 'thread_id': '1'}, created_at='2025-08-13T12:29:05.507901+00:00', parent_config={'configurable': {'thread_id': '1', 'checkpoint_ns': '', 'checkpoint_id': '1f078322-3dd2-6c5f-bfff-19f5b74ef211'}}, tasks=(PregelTask(id='e732c998-0b1b-7ba0-4884-3a965e3837ae', name='generate_joke', path=('__pregel_pull', 'generate_joke'), error=None, interrupts=(), state=None, result={'joke': \"Here's one:\\n\\nWhy was the pizza in a bad mood?\\n\\nBecause it was feeling a little crusty!\\n\\nHope that made you laugh!\"}),), interrupts=()),\n",
       " StateSnapshot(values={'topic': 'GenZ'}, next=('generate_joke',), config={'configurable': {'thread_id': '1', 'checkpoint_ns': '', 'checkpoint_id': '1f07840c-2de5-6737-8000-2389d863da22'}}, metadata={'source': 'update', 'step': 0, 'parents': {}, 'thread_id': '1'}, created_at='2025-08-13T12:26:39.107616+00:00', parent_config={'configurable': {'thread_id': '1', 'checkpoint_ns': '', 'checkpoint_id': '1f078322-3dd2-6c5f-bfff-19f5b74ef211'}}, tasks=(PregelTask(id='2a56405e-5c26-f666-d8b8-14ff5f49bbc6', name='generate_joke', path=('__pregel_pull', 'generate_joke'), error=None, interrupts=(), state=None, result={'joke': 'Here\\'s one:\\n\\nWhy did the GenZer bring a ladder to the party?\\n\\nBecause they wanted to take their TikTok game to new heights...and also because they\\'re used to always having a \"step up\" on their parents'}),), interrupts=()),\n",
       " StateSnapshot(values={'topic': 'pizza', 'joke': \"Here's one:\\n\\nWhy was the pizza in a bad mood?\\n\\nBecause it was feeling a little crusty!\\n\\nHope that made you laugh!\", 'explanation': 'This joke is a play on words, using the multiple meanings of the word \"crusty\" to create a pun.\\n\\nIn one sense, \"crusty\" refers to the outer layer of a bread, such as a pizza crust. So, in this context, the joke is saying that the pizza is feeling a little crusty, implying that it\\'s feeling a bit rough around the edges, like its crust.\\n\\nHowever, \"crusty\" can also mean being in a bad mood or irritable. This is the more common usage of the word in everyday language. So, when the joke says the pizza is feeling a little crusty, it\\'s also implying that the pizza is in a bad mood, which is the punchline of the joke.\\n\\nThe humor comes from the unexpected twist on the word \"crusty\" and the clever connection between the physical characteristic of a pizza (its crust) and the emotional state of being in a bad mood (being crusty). It\\'s a lighthearted and playful joke that uses wordplay to create a sense of surprise and delight.'}, next=(), config={'configurable': {'thread_id': '1', 'checkpoint_ns': '', 'checkpoint_id': '1f0783f5-5f1b-684a-8002-819bd6033157'}}, metadata={'source': 'loop', 'step': 2, 'parents': {}, 'thread_id': '1'}, created_at='2025-08-13T12:16:26.866230+00:00', parent_config={'configurable': {'thread_id': '1', 'checkpoint_ns': '', 'checkpoint_id': '1f078322-4332-6d57-8001-22d0cff5211b'}}, tasks=(), interrupts=()),\n",
       " StateSnapshot(values={'topic': 'pizza', 'joke': \"Here's one:\\n\\nWhy was the pizza in a bad mood?\\n\\nBecause it was feeling a little crusty!\\n\\nHope that made you laugh!\", 'explanation': 'Let me break down the joke for you:\\n\\nThe joke is a play on words, using a pun to create humor. Here\\'s how it works:\\n\\nThe setup for the joke is \"Why was the pizza in a bad mood?\" which implies that the pizza is experiencing some kind of emotional distress.\\n\\nThe punchline \"Because it was feeling a little crusty!\" is where the pun comes in. \"Crusty\" has a double meaning here:\\n\\n1. In baking, the crust refers to the outer layer of a bread or pastry, including pizza. So, in this context, \"crusty\" could literally mean that the pizza\\'s crust is in a bad state (e.g., burnt, stale, etc.).\\n2. However, \"crusty\" is also an adjective that can be used to describe someone or something that is irritable, grumpy, or ill-tempered. For example, \"He\\'s been feeling crusty all day, don\\'t talk to him.\"\\n\\nThe joke relies on the unexpected twist of the word \"crusty\" from a literal baking context to a figurative emotional state. It\\'s a lighthearted and silly pun that creates a humorous connection between the pizza\\'s physical properties and its supposed emotional state.\\n\\nSo, when you hear the punchline, your brain quickly switches from thinking about the pizza\\'s physical crust to the idea that the pizza is feeling grumpy, which creates the comedic effect!'}, next=(), config={'configurable': {'thread_id': '1', 'checkpoint_ns': '', 'checkpoint_id': '1f078322-522c-698c-8002-cb8eaa3a4034'}}, metadata={'source': 'loop', 'step': 2, 'parents': {}, 'thread_id': '1'}, created_at='2025-08-13T10:42:01.521960+00:00', parent_config={'configurable': {'thread_id': '1', 'checkpoint_ns': '', 'checkpoint_id': '1f078322-4332-6d57-8001-22d0cff5211b'}}, tasks=(), interrupts=()),\n",
       " StateSnapshot(values={'topic': 'pizza', 'joke': \"Here's one:\\n\\nWhy was the pizza in a bad mood?\\n\\nBecause it was feeling a little crusty!\\n\\nHope that made you laugh!\"}, next=('generate_explanation',), config={'configurable': {'thread_id': '1', 'checkpoint_ns': '', 'checkpoint_id': '1f078322-4332-6d57-8001-22d0cff5211b'}}, metadata={'source': 'loop', 'step': 1, 'parents': {}, 'thread_id': '1'}, created_at='2025-08-13T10:41:59.951629+00:00', parent_config={'configurable': {'thread_id': '1', 'checkpoint_ns': '', 'checkpoint_id': '1f078322-3dd7-63da-8000-fe096b4aacb5'}}, tasks=(PregelTask(id='1e93f127-ffca-4797-d15d-b86ba327f923', name='generate_explanation', path=('__pregel_pull', 'generate_explanation'), error=None, interrupts=(), state=None, result={'explanation': 'Let me break down the joke for you:\\n\\nThe joke is a play on words, using a pun to create humor. Here\\'s how it works:\\n\\nThe setup for the joke is \"Why was the pizza in a bad mood?\" which implies that the pizza is experiencing some kind of emotional distress.\\n\\nThe punchline \"Because it was feeling a little crusty!\" is where the pun comes in. \"Crusty\" has a double meaning here:\\n\\n1. In baking, the crust refers to the outer layer of a bread or pastry, including pizza. So, in this context, \"crusty\" could literally mean that the pizza\\'s crust is in a bad state (e.g., burnt, stale, etc.).\\n2. However, \"crusty\" is also an adjective that can be used to describe someone or something that is irritable, grumpy, or ill-tempered. For example, \"He\\'s been feeling crusty all day, don\\'t talk to him.\"\\n\\nThe joke relies on the unexpected twist of the word \"crusty\" from a literal baking context to a figurative emotional state. It\\'s a lighthearted and silly pun that creates a humorous connection between the pizza\\'s physical properties and its supposed emotional state.\\n\\nSo, when you hear the punchline, your brain quickly switches from thinking about the pizza\\'s physical crust to the idea that the pizza is feeling grumpy, which creates the comedic effect!'}),), interrupts=()),\n",
       " StateSnapshot(values={'topic': 'pizza'}, next=('generate_joke',), config={'configurable': {'thread_id': '1', 'checkpoint_ns': '', 'checkpoint_id': '1f078322-3dd7-63da-8000-fe096b4aacb5'}}, metadata={'source': 'loop', 'step': 0, 'parents': {}, 'thread_id': '1'}, created_at='2025-08-13T10:41:59.389866+00:00', parent_config={'configurable': {'thread_id': '1', 'checkpoint_ns': '', 'checkpoint_id': '1f078322-3dd2-6c5f-bfff-19f5b74ef211'}}, tasks=(PregelTask(id='5b36ba33-a034-2ad3-0c7e-f4f7fb97ae35', name='generate_joke', path=('__pregel_pull', 'generate_joke'), error=None, interrupts=(), state=None, result={'joke': \"Here's one:\\n\\nWhy was the pizza in a bad mood?\\n\\nBecause it was feeling a little crusty!\\n\\nHope that made you laugh!\"}),), interrupts=()),\n",
       " StateSnapshot(values={}, next=('__start__',), config={'configurable': {'thread_id': '1', 'checkpoint_ns': '', 'checkpoint_id': '1f078322-3dd2-6c5f-bfff-19f5b74ef211'}}, metadata={'source': 'input', 'step': -1, 'parents': {}, 'thread_id': '1'}, created_at='2025-08-13T10:41:59.388050+00:00', parent_config=None, tasks=(PregelTask(id='bdf176e1-4ea9-d687-a0e0-36b7d69fe905', name='__start__', path=('__pregel_pull', '__start__'), error=None, interrupts=(), state=None, result={'topic': 'pizza'}),), interrupts=())]"
      ]
     },
     "execution_count": 23,
     "metadata": {},
     "output_type": "execute_result"
    }
   ],
   "source": [
    "list(workflow.get_state_history(config1))"
   ]
  }
 ],
 "metadata": {
  "kernelspec": {
   "display_name": "myenv",
   "language": "python",
   "name": "python3"
  },
  "language_info": {
   "codemirror_mode": {
    "name": "ipython",
    "version": 3
   },
   "file_extension": ".py",
   "mimetype": "text/x-python",
   "name": "python",
   "nbconvert_exporter": "python",
   "pygments_lexer": "ipython3",
   "version": "3.13.1"
  }
 },
 "nbformat": 4,
 "nbformat_minor": 5
}
