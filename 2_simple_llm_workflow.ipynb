{
 "cells": [
  {
   "cell_type": "code",
   "execution_count": 11,
   "id": "62331ed1",
   "metadata": {},
   "outputs": [],
   "source": [
    "from langgraph.graph import StateGraph, START, END\n",
    "from openai import OpenAI\n",
    "from dotenv import load_dotenv\n",
    "from typing import TypedDict\n",
    "import os"
   ]
  },
  {
   "cell_type": "code",
   "execution_count": 12,
   "id": "c93a9d2e",
   "metadata": {},
   "outputs": [
    {
     "data": {
      "text/plain": [
       "True"
      ]
     },
     "execution_count": 12,
     "metadata": {},
     "output_type": "execute_result"
    }
   ],
   "source": [
    "load_dotenv()"
   ]
  },
  {
   "cell_type": "code",
   "execution_count": 13,
   "id": "3fc2c54f",
   "metadata": {},
   "outputs": [],
   "source": [
    "# Get the key from env variable\n",
    "groq_key = os.getenv(\"GROQ_API_KEY\")"
   ]
  },
  {
   "cell_type": "code",
   "execution_count": 14,
   "id": "5cf4204f",
   "metadata": {},
   "outputs": [
    {
     "name": "stdout",
     "output_type": "stream",
     "text": [
      "Loaded key: True\n"
     ]
    }
   ],
   "source": [
    "print(\"Loaded key:\", groq_key is not None)  # Debug: should print Tru"
   ]
  },
  {
   "cell_type": "code",
   "execution_count": 15,
   "id": "8607f59a",
   "metadata": {},
   "outputs": [],
   "source": [
    "model = OpenAI(\n",
    "    base_url=\"https://api.groq.com/openai/v1\",\n",
    "    api_key=groq_key\n",
    ")"
   ]
  },
  {
   "cell_type": "code",
   "execution_count": 16,
   "id": "be34356e",
   "metadata": {},
   "outputs": [],
   "source": [
    "# create a state \n",
    "\n",
    "class LLMState(TypedDict):\n",
    "\n",
    "    question:str\n",
    "    answer:str"
   ]
  },
  {
   "cell_type": "code",
   "execution_count": 27,
   "id": "0b79c154",
   "metadata": {},
   "outputs": [],
   "source": [
    "# create a function to ask the llm \n",
    "def llm_qa(state: LLMState) -> LLMState:\n",
    "\n",
    "    # extract the question from the state \n",
    "    question = state[\"question\"]\n",
    "\n",
    "    # form a prompt\n",
    "    prompt = f\"Answer the following question: {question}\"\n",
    "\n",
    "    # Ask that question to the LLM\n",
    "    response = model.chat.completions.create(\n",
    "        model=\"llama3-70b-8192\",  # Use the Groq-supported model\n",
    "        messages=[{\"role\": \"user\", \"content\": prompt}]\n",
    "    )\n",
    "\n",
    "    # Extract the answer\n",
    "    answer = response.choices[0].message.content\n",
    "\n",
    "    # update the state with the answer \n",
    "    state[\"answer\"] = answer\n",
    "\n",
    "    return state"
   ]
  },
  {
   "cell_type": "code",
   "execution_count": 28,
   "id": "b6de7948",
   "metadata": {},
   "outputs": [],
   "source": [
    "# create our graph \n",
    "\n",
    "graph = StateGraph(LLMState)\n",
    "\n",
    "# create our nodes \n",
    "graph.add_node(\"llm_qa\", llm_qa)\n",
    "\n",
    "#create our edges \n",
    "graph.add_edge(START, \"llm_qa\")\n",
    "graph.add_edge(\"llm_qa\", END)\n",
    "\n",
    "#compile\n",
    "workflow = graph.compile()\n"
   ]
  },
  {
   "cell_type": "code",
   "execution_count": 29,
   "id": "501074b5",
   "metadata": {},
   "outputs": [
    {
     "name": "stdout",
     "output_type": "stream",
     "text": [
      "The average distance from the Earth to the Moon is about 384,400 kilometers (238,900 miles). This is called the \"lunar distance\" or \"lunar mean distance.\" However, it's worth noting that the Moon's orbit is not a perfect circle and its distance from Earth varies slightly over the course of a month.\n",
      "\n",
      "At its closest point, called \"perigee,\" the Moon is about 356,400 kilometers (221,500 miles) away from Earth.\n",
      "\n",
      "At its farthest point, called \"apogee,\" the Moon is about 405,500 kilometers (252,000 miles) away from Earth.\n",
      "\n",
      "So, to summarize:\n",
      "\n",
      "* Average distance: 384,400 km (238,900 miles)\n",
      "* Closest distance (perigee): 356,400 km (221,500 miles)\n",
      "* Farthest distance (apogee): 405,500 km (252,000 miles)\n"
     ]
    }
   ],
   "source": [
    "# execute\n",
    "\n",
    "intial_state = {'question': 'How far is moon from the earth?'}\n",
    "\n",
    "final_state = workflow.invoke(intial_state)\n",
    "\n",
    "print(final_state['answer'])"
   ]
  },
  {
   "cell_type": "code",
   "execution_count": null,
   "id": "b0753426-00a9-4f00-a1a7-2ff485fc1e6b",
   "metadata": {},
   "outputs": [],
   "source": []
  },
  {
   "cell_type": "code",
   "execution_count": null,
   "id": "6796d82a-c5d3-4ae9-b2ae-6fe52fbc6ef6",
   "metadata": {},
   "outputs": [],
   "source": []
  }
 ],
 "metadata": {
  "kernelspec": {
   "display_name": "Python 3 (ipykernel)",
   "language": "python",
   "name": "python3"
  },
  "language_info": {
   "codemirror_mode": {
    "name": "ipython",
    "version": 3
   },
   "file_extension": ".py",
   "mimetype": "text/x-python",
   "name": "python",
   "nbconvert_exporter": "python",
   "pygments_lexer": "ipython3",
   "version": "3.13.1"
  }
 },
 "nbformat": 4,
 "nbformat_minor": 5
}
