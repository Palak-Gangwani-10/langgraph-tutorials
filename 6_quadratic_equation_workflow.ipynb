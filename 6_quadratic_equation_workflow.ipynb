{
 "cells": [
  {
   "cell_type": "code",
   "execution_count": 17,
   "id": "c9cb065b",
   "metadata": {},
   "outputs": [],
   "source": [
    "from langgraph.graph import StateGraph, START, END\n",
    "from typing import TypedDict, Literal"
   ]
  },
  {
   "cell_type": "code",
   "execution_count": 2,
   "id": "75da79fe",
   "metadata": {},
   "outputs": [],
   "source": [
    "# create a state \n",
    "class QuadState(TypedDict):\n",
    "\n",
    "    a:int\n",
    "    b:int\n",
    "    c:int\n",
    "    \n",
    "    equation:str\n",
    "    discriminant:float\n",
    "    result:str\n"
   ]
  },
  {
   "cell_type": "code",
   "execution_count": 18,
   "id": "5c8d29a7",
   "metadata": {},
   "outputs": [],
   "source": [
    "def show_equation(state:QuadState):\n",
    "\n",
    "    equation = f\"{state['a']}x^2 + {state['b']}x + {state['c']} = 0\"\n",
    "\n",
    "    return {\"equation\":equation}\n",
    "\n",
    "def calculate_discriminant(state:QuadState):\n",
    "\n",
    "    discriminant = state['b']**2 - (4*state['a']*state['c'])\n",
    "\n",
    "    return {\"discriminant\":discriminant}\n",
    "\n",
    "def real_roots(state:QuadState):\n",
    "\n",
    "    root1 = (-state[\"b\"] + state[\"discriminant\"]**0.5)/(2*state[\"a\"])\n",
    "    root2 = (-state[\"b\"] - state[\"discriminant\"]**0.5)/(2*state[\"a\"])\n",
    "\n",
    "    result = f'The roots are {root1} and {root2}'\n",
    "\n",
    "    return {'result': result}\n",
    "\n",
    "def repeated_roots(state:QuadState):\n",
    "\n",
    "    root = (-state[\"b\"])/(2*state[\"a\"])\n",
    "\n",
    "    result = f'Only repeating root is {root}'\n",
    "\n",
    "    return {'result': result}\n",
    "\n",
    "def no_real_roots(state:QuadState):\n",
    "\n",
    "    result = f'No real roots'\n",
    "\n",
    "    return {'result': result}\n",
    "\n",
    "def check_condition(state:QuadState) -> Literal [\"real_roots\", \"repeated_roots\", \"no_real_roots\"]:\n",
    "\n",
    "    if state['discriminant'] > 0:\n",
    "        return \"real_roots\"\n",
    "    elif state['discriminant'] == 0:\n",
    "        return \"repeated_roots\"\n",
    "    else:\n",
    "        return \"no_real_roots\"\n"
   ]
  },
  {
   "cell_type": "code",
   "execution_count": 19,
   "id": "0ab29cc1",
   "metadata": {},
   "outputs": [],
   "source": [
    "# create a graph\n",
    "\n",
    "graph = StateGraph(QuadState)\n",
    "\n",
    "# create nodes \n",
    "\n",
    "graph.add_node(\"show_euqation\", show_equation)\n",
    "graph.add_node(\"calculate_discriminant\", calculate_discriminant)\n",
    "graph.add_node('real_roots', real_roots)\n",
    "graph.add_node('repeated_roots', repeated_roots)\n",
    "graph.add_node('no_real_roots', no_real_roots)\n",
    "\n",
    "# create edges \n",
    "\n",
    "graph.add_edge(START, \"show_euqation\")\n",
    "graph.add_edge(\"show_euqation\", \"calculate_discriminant\")\n",
    "graph.add_conditional_edges(\"calculate_discriminant\", check_condition)\n",
    "\n",
    "graph.add_edge('real_roots',END)\n",
    "graph.add_edge('repeated_roots',END)\n",
    "graph.add_edge('no_real_roots',END)\n",
    "\n",
    "\n",
    "\n",
    "# compile the graph\n",
    "\n",
    "workflow = graph.compile()\n"
   ]
  },
  {
   "cell_type": "code",
   "execution_count": 20,
   "id": "d66b1321",
   "metadata": {},
   "outputs": [
    {
     "data": {
      "image/png": "[encoded data removed]",
      "text/plain": [
       "<langgraph.graph.state.CompiledStateGraph object at 0x000001FA4D4B0E10>"
      ]
     },
     "execution_count": 20,
     "metadata": {},
     "output_type": "execute_result"
    }
   ],
   "source": [
    "workflow"
   ]
  },
  {
   "cell_type": "code",
   "execution_count": 21,
   "id": "4b754c50",
   "metadata": {},
   "outputs": [],
   "source": [
    "initial_state = {\n",
    "    'a' : 3,\n",
    "    'b' : -4,\n",
    "    'c' : 8\n",
    "}"
   ]
  },
  {
   "cell_type": "code",
   "execution_count": 22,
   "id": "e936f6de",
   "metadata": {},
   "outputs": [
    {
     "data": {
      "text/plain": [
       "{'a': 3,\n",
       " 'b': -4,\n",
       " 'c': 8,\n",
       " 'equation': '3x^2 + -4x + 8 = 0',\n",
       " 'discriminant': -80,\n",
       " 'result': 'No real roots'}"
      ]
     },
     "execution_count": 22,
     "metadata": {},
     "output_type": "execute_result"
    }
   ],
   "source": [
    "workflow.invoke(initial_state)"
   ]
  },
  {
   "cell_type": "code",
   "execution_count": null,
   "id": "3d2476a1",
   "metadata": {},
   "outputs": [],
   "source": []
  }
 ],
 "metadata": {
  "kernelspec": {
   "display_name": "myenv",
   "language": "python",
   "name": "python3"
  },
  "language_info": {
   "codemirror_mode": {
    "name": "ipython",
    "version": 3
   },
   "file_extension": ".py",
   "mimetype": "text/x-python",
   "name": "python",
   "nbconvert_exporter": "python",
   "pygments_lexer": "ipython3",
   "version": "3.13.1"
  }
 },
 "nbformat": 4,
 "nbformat_minor": 5
}
