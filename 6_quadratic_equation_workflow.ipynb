{
 "cells": [
  {
   "cell_type": "code",
   "execution_count": null,
   "id": "c9cb065b",
   "metadata": {},
   "outputs": [],
   "source": [
    "from langgraph.graph import StateGraph, START, END\n",
    "from typing import TypedDict, Literal"
   ]
  },
  {
   "cell_type": "code",
   "execution_count": null,
   "id": "75da79fe",
   "metadata": {},
   "outputs": [],
   "source": [
    "# create a state \n",
    "class QuadState(TypedDict):\n",
    "\n",
    "    a:int\n",
    "    b:int\n",
    "    c:int\n",
    "    \n",
    "    equation:str\n",
    "    discriminant:str\n",
    "    result:str\n"
   ]
  },
  {
   "cell_type": "code",
   "execution_count": null,
   "id": "0ab29cc1",
   "metadata": {},
   "outputs": [],
   "source": [
    "# create a graph\n",
    "\n",
    "graph = StateGraph(QuadState)\n",
    "\n"
   ]
  }
 ],
 "metadata": {
  "language_info": {
   "name": "python"
  }
 },
 "nbformat": 4,
 "nbformat_minor": 5
}
