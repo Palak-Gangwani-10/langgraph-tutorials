{
 "cells": [
  {
   "cell_type": "code",
   "execution_count": 1,
   "id": "95ffcace",
   "metadata": {},
   "outputs": [],
   "source": [
    "from langgraph.graph import StateGraph, START, END\n",
    "from openai import OpenAI\n",
    "from dotenv import load_dotenv\n",
    "from typing import TypedDict\n",
    "import os"
   ]
  },
  {
   "cell_type": "code",
   "execution_count": 2,
   "id": "5e38b684",
   "metadata": {},
   "outputs": [
    {
     "data": {
      "text/plain": [
       "True"
      ]
     },
     "execution_count": 2,
     "metadata": {},
     "output_type": "execute_result"
    }
   ],
   "source": [
    "load_dotenv()"
   ]
  },
  {
   "cell_type": "code",
   "execution_count": 3,
   "id": "f741f23e",
   "metadata": {},
   "outputs": [],
   "source": [
    "# Get the key from env variable\n",
    "groq_key = os.getenv(\"GROQ_API_KEY\")"
   ]
  },
  {
   "cell_type": "code",
   "execution_count": 4,
   "id": "a6b1ce61",
   "metadata": {},
   "outputs": [],
   "source": [
    "model = OpenAI(\n",
    "    base_url=\"https://api.groq.com/openai/v1\",\n",
    "    api_key=groq_key\n",
    ")"
   ]
  },
  {
   "cell_type": "code",
   "execution_count": 5,
   "id": "7cbb0b98",
   "metadata": {},
   "outputs": [],
   "source": [
    "# define the state of the blog\n",
    "class BlogState(TypedDict):\n",
    "\n",
    "    title: str\n",
    "    outline: str\n",
    "    content: str"
   ]
  },
  {
   "cell_type": "code",
   "execution_count": 6,
   "id": "ed72aa15",
   "metadata": {},
   "outputs": [],
   "source": [
    "# define function to generate a blog outline \n",
    "\n",
    "def create_outline(state: BlogState) -> BlogState:\n",
    "\n",
    "    # fetch title\n",
    "    title = state[\"title\"]\n",
    "\n",
    "    # form a prompt \n",
    "    prompt = f\"Create a blog outline for the following title: {title}\"\n",
    "\n",
    "    # ask that question to the LLM using the OpenAI-compatible SDK\n",
    "    response = model.chat.completions.create(\n",
    "        model=\"llama3-70b-8192\",  # or any other supported Groq model\n",
    "        messages=[{\"role\": \"user\", \"content\": prompt}]\n",
    "    )\n",
    "\n",
    "    # extract the outline\n",
    "    outline = response.choices[0].message.content\n",
    "\n",
    "    # update the state with the outline \n",
    "    state[\"outline\"] = outline\n",
    "\n",
    "    return state"
   ]
  },
  {
   "cell_type": "code",
   "execution_count": 7,
   "id": "c1920393",
   "metadata": {},
   "outputs": [],
   "source": [
    "# define function to generate a blog \n",
    "\n",
    "def create_blog(state: BlogState) -> BlogState:\n",
    "\n",
    "    title = state[\"title\"]\n",
    "    outline = state[\"outline\"]\n",
    "\n",
    "    prompt = f\"Create a blog for the following title: {title} and outline: {outline}\"\n",
    "\n",
    "    # ask that question to the LLM using the OpenAI-compatible SDK\n",
    "    response = model.chat.completions.create(\n",
    "        model=\"llama3-70b-8192\",  # or any other supported Groq model\n",
    "        messages=[{\"role\": \"user\", \"content\": prompt}]\n",
    "    )\n",
    "\n",
    "    # extract the outline\n",
    "    content = response.choices[0].message.content\n",
    "\n",
    "    state[\"content\"] = content\n",
    "\n",
    "    return state "
   ]
  },
  {
   "cell_type": "code",
   "execution_count": 8,
   "id": "9988ce98",
   "metadata": {},
   "outputs": [],
   "source": [
    "# create our graph \n",
    "graph = StateGraph(BlogState)\n",
    "\n",
    "# create nodes \n",
    "graph.add_node(\"create_outline\", create_outline)\n",
    "graph.add_node(\"create_blog\", create_blog)\n",
    "\n",
    "# create edges\n",
    "graph.add_edge(START, \"create_outline\")\n",
    "graph.add_edge(\"create_outline\", \"create_blog\")\n",
    "graph.add_edge(\"create_blog\", END)\n",
    "\n",
    "# compile the graph\n",
    "workflow = graph.compile()\n"
   ]
  },
  {
   "cell_type": "code",
   "execution_count": 9,
   "id": "81a77f9f",
   "metadata": {},
   "outputs": [
    {
     "name": "stdout",
     "output_type": "stream",
     "text": [
      "{'title': 'World in 2030', 'outline': 'Here is a proposed outline for a blog post on the title \"World in 2030\":\\n\\n**I. Introduction**\\n\\n* Brief overview of the rapid pace of technological advancements and global changes\\n* Thesis statement: By 2030, the world will undergo significant transformations in various aspects of life, from technology and economy to environment and society.\\n\\n**II. Technology and Innovation**\\n\\n* Predictions for artificial intelligence, machine learning, and robotics in 2030\\n\\t+ Impact on industries such as healthcare, finance, and education\\n\\t+ Automation of jobs and the future of work\\n* Advances in renewable energy and transportation\\n\\t+ Electric cars and hyperloops: the future of transportation\\n\\t+ Solar and wind energy: powering homes and cities\\n* The rise of virtual and augmented reality\\n\\t+ Changing the way we interact, work, and play\\n\\n**III. Economy and Business**\\n\\n* Global economic trends and predictions\\n\\t+ Rise of emerging markets and decline of traditional powers\\n\\t+ Impact of automation on employment and income inequality\\n* The future of work and the gig economy\\n\\t+ Freelance work, online platforms, and the blurring of lines between work and leisure\\n* The role of blockchain and cryptocurrency in global finance\\n\\t+ Decentralized currencies and secure transactions\\n\\n**IV. Environment and Sustainability**\\n\\n* Climate change: predictions and consequences\\n\\t+ Rising sea levels, extreme weather events, and food security concerns\\n* Sustainable development and green initiatives\\n\\t+ Renewable energy, eco-friendly infrastructure, and eco-tourism\\n* The impact of technology on environmental conservation\\n\\t+ Monitoring and tracking environmental changes with AI and IoT\\n\\n**V. Society and Culture**\\n\\n* Demographic shifts and changing population dynamics\\n\\t+ Aging populations, urbanization, and migration\\n* The evolution of education and lifelong learning\\n\\t+ Online learning platforms, AI-powered adaptive learning, and continuous skill acquisition\\n* The future of healthcare and wellness\\n\\t+ Personalized medicine, telehealth, and preventative care\\n\\n**VI. Global Politics and Governance**\\n\\n* Shifting global power dynamics and international relations\\n\\t+ Rise of new global powers and evolving alliances\\n* The impact of technology on governance and democracy\\n\\t+ E-voting, digital citizenship, and transparent decision-making processes\\n* Global challenges and collective action\\n\\t+ Cooperative efforts to address climate change, pandemics, and inequality\\n\\n**VII. Conclusion**\\n\\n* Recap of the transformative changes expected by 2030\\n* Final thoughts on the opportunities and challenges that lie ahead\\n* Call to action: preparing for the world of 2030 and building a better future for all.\\n\\nThis outline provides a comprehensive framework for exploring the significant changes that are likely to shape the world by 2030.', 'content': \"**The World in 2030: A Future of Transformation and Opportunity**\\n\\nAs we stand at the threshold of a new decade, it's clear that the world is changing at an unprecedented pace. Technological advancements, global shifts, and emerging trends are redefining the way we live, work, and interact with each other. In this blog post, we'll explore the transformative changes that are expected to shape the world by 2030, from technological innovations to environmental concerns, and from economic shifts to societal evolutions.\\n\\n**Rapid Pace of Change**\\n\\nIn just the past few decades, we've witnessed incredible advancements in technology, healthcare, and communication. The internet, social media, and mobile devices have revolutionized the way we connect, access information, and conduct business. However, the pace of change is only accelerating, and by 2030, we can expect even more profound transformations that will reshape our world.\\n\\n**Technology and Innovation**\\n\\nArtificial intelligence, machine learning, and robotics will continue to alter the fabric of industries such as healthcare, finance, and education. AI-powered diagnosis and personalized medicine will transform healthcare, while AI-driven trading and financial analysis will reshape the finance sector. Automation will replace certain jobs, but it will also create new opportunities in fields like data science and machine learning engineering.\\n\\nRenewable energy sources, such as solar and wind power, will become increasingly prevalent, powering homes, cities, and industries. Electric cars and hyperloops will revolutionize transportation, reducing emissions and increasing efficiency. Virtual and augmented reality will blur the lines between physical and digital spaces, changing the way we interact, work, and play.\\n\\n**Economy and Business**\\n\\nThe global economy will continue to shift, with emerging markets like India and Africa rising to prominence. Automation will lead to job displacement, but it will also create new opportunities in the gig economy, where freelance work and online platforms will become the norm. Blockchain and cryptocurrency will play a significant role in global finance, enabling secure, decentralized transactions.\\n\\n**Environment and Sustainability**\\n\\nClimate change will continue to be a pressing concern, with rising sea levels, extreme weather events, and food security issues dominating the agenda. However, sustainable development and green initiatives will gain traction, with a focus on renewable energy, eco-friendly infrastructure, and eco-tourism. Technology will play a crucial role in environmental conservation, with AI and IoT enabling real-time monitoring and tracking of environmental changes.\\n\\n**Society and Culture**\\n\\nDemographic shifts will reshape population dynamics, with aging populations, urbanization, and migration altering the global landscape. Education will evolve, with online learning platforms, AI-powered adaptive learning, and continuous skill acquisition becoming the norm. Healthcare will focus on personalized medicine, telehealth, and preventative care, enabled by advanced technologies like AI and genomics.\\n\\n**Global Politics and Governance**\\n\\nGlobal power dynamics will continue to shift, with new powers emerging and traditional alliances evolving. Technology will transform governance, with e-voting, digital citizenship, and transparent decision-making processes becoming more prevalent. Global challenges like climate change, pandemics, and inequality will require collective action and cooperation to address.\\n\\n**Conclusion**\\n\\nBy 2030, the world will be a vastly different place, shaped by technological innovations, global shifts, and emerging trends. While the challenges ahead will be significant, the opportunities are vast. As we prepare for the world of 2030, we must come together to build a better future for all – one that is equitable, sustainable, and prosperous.\\n\\nIn conclusion, the world in 2030 will be a transformative era of change and opportunity. It's up to us to seize the moment, harness the power of technology, and work together to create a brighter future for generations to come.\"}\n"
     ]
    }
   ],
   "source": [
    "intial_state = {'title': 'World in 2030'}\n",
    "\n",
    "final_state = workflow.invoke(intial_state)\n",
    "\n",
    "print(final_state)"
   ]
  },
  {
   "cell_type": "code",
   "execution_count": 10,
   "id": "1ef62a1b",
   "metadata": {},
   "outputs": [
    {
     "name": "stdout",
     "output_type": "stream",
     "text": [
      "Here is a proposed outline for a blog post on the title \"World in 2030\":\n",
      "\n",
      "**I. Introduction**\n",
      "\n",
      "* Brief overview of the rapid pace of technological advancements and global changes\n",
      "* Thesis statement: By 2030, the world will undergo significant transformations in various aspects of life, from technology and economy to environment and society.\n",
      "\n",
      "**II. Technology and Innovation**\n",
      "\n",
      "* Predictions for artificial intelligence, machine learning, and robotics in 2030\n",
      "\t+ Impact on industries such as healthcare, finance, and education\n",
      "\t+ Automation of jobs and the future of work\n",
      "* Advances in renewable energy and transportation\n",
      "\t+ Electric cars and hyperloops: the future of transportation\n",
      "\t+ Solar and wind energy: powering homes and cities\n",
      "* The rise of virtual and augmented reality\n",
      "\t+ Changing the way we interact, work, and play\n",
      "\n",
      "**III. Economy and Business**\n",
      "\n",
      "* Global economic trends and predictions\n",
      "\t+ Rise of emerging markets and decline of traditional powers\n",
      "\t+ Impact of automation on employment and income inequality\n",
      "* The future of work and the gig economy\n",
      "\t+ Freelance work, online platforms, and the blurring of lines between work and leisure\n",
      "* The role of blockchain and cryptocurrency in global finance\n",
      "\t+ Decentralized currencies and secure transactions\n",
      "\n",
      "**IV. Environment and Sustainability**\n",
      "\n",
      "* Climate change: predictions and consequences\n",
      "\t+ Rising sea levels, extreme weather events, and food security concerns\n",
      "* Sustainable development and green initiatives\n",
      "\t+ Renewable energy, eco-friendly infrastructure, and eco-tourism\n",
      "* The impact of technology on environmental conservation\n",
      "\t+ Monitoring and tracking environmental changes with AI and IoT\n",
      "\n",
      "**V. Society and Culture**\n",
      "\n",
      "* Demographic shifts and changing population dynamics\n",
      "\t+ Aging populations, urbanization, and migration\n",
      "* The evolution of education and lifelong learning\n",
      "\t+ Online learning platforms, AI-powered adaptive learning, and continuous skill acquisition\n",
      "* The future of healthcare and wellness\n",
      "\t+ Personalized medicine, telehealth, and preventative care\n",
      "\n",
      "**VI. Global Politics and Governance**\n",
      "\n",
      "* Shifting global power dynamics and international relations\n",
      "\t+ Rise of new global powers and evolving alliances\n",
      "* The impact of technology on governance and democracy\n",
      "\t+ E-voting, digital citizenship, and transparent decision-making processes\n",
      "* Global challenges and collective action\n",
      "\t+ Cooperative efforts to address climate change, pandemics, and inequality\n",
      "\n",
      "**VII. Conclusion**\n",
      "\n",
      "* Recap of the transformative changes expected by 2030\n",
      "* Final thoughts on the opportunities and challenges that lie ahead\n",
      "* Call to action: preparing for the world of 2030 and building a better future for all.\n",
      "\n",
      "This outline provides a comprehensive framework for exploring the significant changes that are likely to shape the world by 2030.\n"
     ]
    }
   ],
   "source": [
    "print(final_state['outline'])"
   ]
  },
  {
   "cell_type": "code",
   "execution_count": 11,
   "id": "389144ab",
   "metadata": {},
   "outputs": [
    {
     "name": "stdout",
     "output_type": "stream",
     "text": [
      "**The World in 2030: A Future of Transformation and Opportunity**\n",
      "\n",
      "As we stand at the threshold of a new decade, it's clear that the world is changing at an unprecedented pace. Technological advancements, global shifts, and emerging trends are redefining the way we live, work, and interact with each other. In this blog post, we'll explore the transformative changes that are expected to shape the world by 2030, from technological innovations to environmental concerns, and from economic shifts to societal evolutions.\n",
      "\n",
      "**Rapid Pace of Change**\n",
      "\n",
      "In just the past few decades, we've witnessed incredible advancements in technology, healthcare, and communication. The internet, social media, and mobile devices have revolutionized the way we connect, access information, and conduct business. However, the pace of change is only accelerating, and by 2030, we can expect even more profound transformations that will reshape our world.\n",
      "\n",
      "**Technology and Innovation**\n",
      "\n",
      "Artificial intelligence, machine learning, and robotics will continue to alter the fabric of industries such as healthcare, finance, and education. AI-powered diagnosis and personalized medicine will transform healthcare, while AI-driven trading and financial analysis will reshape the finance sector. Automation will replace certain jobs, but it will also create new opportunities in fields like data science and machine learning engineering.\n",
      "\n",
      "Renewable energy sources, such as solar and wind power, will become increasingly prevalent, powering homes, cities, and industries. Electric cars and hyperloops will revolutionize transportation, reducing emissions and increasing efficiency. Virtual and augmented reality will blur the lines between physical and digital spaces, changing the way we interact, work, and play.\n",
      "\n",
      "**Economy and Business**\n",
      "\n",
      "The global economy will continue to shift, with emerging markets like India and Africa rising to prominence. Automation will lead to job displacement, but it will also create new opportunities in the gig economy, where freelance work and online platforms will become the norm. Blockchain and cryptocurrency will play a significant role in global finance, enabling secure, decentralized transactions.\n",
      "\n",
      "**Environment and Sustainability**\n",
      "\n",
      "Climate change will continue to be a pressing concern, with rising sea levels, extreme weather events, and food security issues dominating the agenda. However, sustainable development and green initiatives will gain traction, with a focus on renewable energy, eco-friendly infrastructure, and eco-tourism. Technology will play a crucial role in environmental conservation, with AI and IoT enabling real-time monitoring and tracking of environmental changes.\n",
      "\n",
      "**Society and Culture**\n",
      "\n",
      "Demographic shifts will reshape population dynamics, with aging populations, urbanization, and migration altering the global landscape. Education will evolve, with online learning platforms, AI-powered adaptive learning, and continuous skill acquisition becoming the norm. Healthcare will focus on personalized medicine, telehealth, and preventative care, enabled by advanced technologies like AI and genomics.\n",
      "\n",
      "**Global Politics and Governance**\n",
      "\n",
      "Global power dynamics will continue to shift, with new powers emerging and traditional alliances evolving. Technology will transform governance, with e-voting, digital citizenship, and transparent decision-making processes becoming more prevalent. Global challenges like climate change, pandemics, and inequality will require collective action and cooperation to address.\n",
      "\n",
      "**Conclusion**\n",
      "\n",
      "By 2030, the world will be a vastly different place, shaped by technological innovations, global shifts, and emerging trends. While the challenges ahead will be significant, the opportunities are vast. As we prepare for the world of 2030, we must come together to build a better future for all – one that is equitable, sustainable, and prosperous.\n",
      "\n",
      "In conclusion, the world in 2030 will be a transformative era of change and opportunity. It's up to us to seize the moment, harness the power of technology, and work together to create a brighter future for generations to come.\n"
     ]
    }
   ],
   "source": [
    "print(final_state['content'])"
   ]
  },
  {
   "cell_type": "code",
   "execution_count": null,
   "id": "77d6765c-a5e2-4d1b-982d-ac986d1de810",
   "metadata": {},
   "outputs": [],
   "source": []
  }
 ],
 "metadata": {
  "kernelspec": {
   "display_name": "myenv",
   "language": "python",
   "name": "python3"
  },
  "language_info": {
   "codemirror_mode": {
    "name": "ipython",
    "version": 3
   },
   "file_extension": ".py",
   "mimetype": "text/x-python",
   "name": "python",
   "nbconvert_exporter": "python",
   "pygments_lexer": "ipython3",
   "version": "3.13.1"
  }
 },
 "nbformat": 4,
 "nbformat_minor": 5
}
