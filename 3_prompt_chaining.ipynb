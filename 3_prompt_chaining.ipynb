{
 "cells": [
  {
   "cell_type": "code",
   "execution_count": 1,
   "id": "95ffcace",
   "metadata": {},
   "outputs": [],
   "source": [
    "from langgraph.graph import StateGraph, START, END\n",
    "from openai import OpenAI\n",
    "from dotenv import load_dotenv\n",
    "from typing import TypedDict\n",
    "import os"
   ]
  },
  {
   "cell_type": "code",
   "execution_count": 2,
   "id": "5e38b684",
   "metadata": {},
   "outputs": [
    {
     "data": {
      "text/plain": [
       "True"
      ]
     },
     "execution_count": 2,
     "metadata": {},
     "output_type": "execute_result"
    }
   ],
   "source": [
    "load_dotenv()"
   ]
  },
  {
   "cell_type": "code",
   "execution_count": 3,
   "id": "f741f23e",
   "metadata": {},
   "outputs": [],
   "source": [
    "# Get the key from env variable\n",
    "groq_key = os.getenv(\"GROQ_API_KEY\")"
   ]
  },
  {
   "cell_type": "code",
   "execution_count": 4,
   "id": "a6b1ce61",
   "metadata": {},
   "outputs": [],
   "source": [
    "model = OpenAI(\n",
    "    base_url=\"https://api.groq.com/openai/v1\",\n",
    "    api_key=groq_key\n",
    ")"
   ]
  },
  {
   "cell_type": "code",
   "execution_count": 5,
   "id": "7cbb0b98",
   "metadata": {},
   "outputs": [],
   "source": [
    "# define the state of the blog\n",
    "class BlogState(TypedDict):\n",
    "\n",
    "    title: str\n",
    "    outline: str\n",
    "    content: str"
   ]
  },
  {
   "cell_type": "code",
   "execution_count": 14,
   "id": "ed72aa15",
   "metadata": {},
   "outputs": [],
   "source": [
    "# define function to generate a blog outline \n",
    "\n",
    "def create_outline(state: BlogState) -> BlogState:\n",
    "\n",
    "    # fetch title\n",
    "    title = state[\"title\"]\n",
    "\n",
    "    # form a prompt \n",
    "    prompt = f\"Create a blog outline for the following title: {title}\"\n",
    "\n",
    "    # ask that question to the LLM using the OpenAI-compatible SDK\n",
    "    response = model.chat.completions.create(\n",
    "        model=\"llama3-70b-8192\",  # or any other supported Groq model\n",
    "        messages=[{\"role\": \"user\", \"content\": prompt}]\n",
    "    )\n",
    "\n",
    "    # extract the outline\n",
    "    outline = response.choices[0].message.content\n",
    "\n",
    "    # update the state with the outline \n",
    "    state[\"outline\"] = outline\n",
    "\n",
    "    return state"
   ]
  },
  {
   "cell_type": "code",
   "execution_count": 18,
   "id": "c1920393",
   "metadata": {},
   "outputs": [],
   "source": [
    "# define function to generate a blog \n",
    "\n",
    "def create_blog(state: BlogState) -> BlogState:\n",
    "\n",
    "    title = state[\"title\"]\n",
    "    outline = state[\"outline\"]\n",
    "\n",
    "    prompt = f\"Create a blog for the following title: {title} and outline: {outline}\"\n",
    "\n",
    "    # ask that question to the LLM using the OpenAI-compatible SDK\n",
    "    response = model.chat.completions.create(\n",
    "        model=\"llama3-70b-8192\",  # or any other supported Groq model\n",
    "        messages=[{\"role\": \"user\", \"content\": prompt}]\n",
    "    )\n",
    "\n",
    "    # extract the outline\n",
    "    content = response.choices[0].message.content\n",
    "\n",
    "    state[\"content\"] = content\n",
    "\n",
    "    return state "
   ]
  },
  {
   "cell_type": "code",
   "execution_count": 19,
   "id": "9988ce98",
   "metadata": {},
   "outputs": [],
   "source": [
    "# create our graph \n",
    "graph = StateGraph(BlogState)\n",
    "\n",
    "# create nodes \n",
    "graph.add_node(\"create_outline\", create_outline)\n",
    "graph.add_node(\"create_blog\", create_blog)\n",
    "\n",
    "# create edges\n",
    "graph.add_edge(START, \"create_outline\")\n",
    "graph.add_edge(\"create_outline\", \"create_blog\")\n",
    "graph.add_edge(\"create_blog\", END)\n",
    "\n",
    "# compile the graph\n",
    "workflow = graph.compile()\n"
   ]
  },
  {
   "cell_type": "code",
   "execution_count": 23,
   "id": "81a77f9f",
   "metadata": {},
   "outputs": [
    {
     "name": "stdout",
     "output_type": "stream",
     "text": [
      "{'title': 'World in 2030', 'outline': 'Here is a suggested outline for a blog post on the title \"World in 2030\":\\n\\n**I. Introduction**\\n\\n* Brief overview of the rapid pace of technological advancements and global changes\\n* Thesis statement: By 2030, the world will have undergone significant transformations, driven by technological innovations, shifting global power dynamics, and environmental concerns.\\n\\n**II. Technological Advancements**\\n\\n* Subheading: The Rise of AI, Robotics, and Quantum Computing\\n\\t+ Discussion of the expected advancements in artificial intelligence, robotics, and quantum computing\\n\\t+ Examples of potential applications in industries such as healthcare, finance, and education\\n* Subheading: The Internet of Things (IoT) and 5G Networks\\n\\t+ Explanation of how IoT and 5G networks will enable greater connectivity and data exchange\\n\\t+ Potential implications for smart cities, transportation, and energy management\\n\\n**III. Global Economy and Power Dynamics**\\n\\n* Subheading: The Rise of Emerging Markets and Shift in Global Economic Power\\n\\t+ Analysis of the growing economic influence of countries such as China, India, and Africa\\n\\t+ Discussion of the potential implications for global trade, investment, and economic growth\\n* Subheading: The Future of Work and the Impact of Automation\\n\\t+ Examination of the effects of automation on employment, including the potential for job displacement and creation\\n\\t+ Discussion of the need for skills training and education to prepare workers for the future\\n\\n**IV. Environmental Sustainability**\\n\\n* Subheading: The Fight Against Climate Change and Energy Transition\\n\\t+ Overview of the current state of climate change and the urgent need for action\\n\\t+ Discussion of the shift towards renewable energy sources, electric vehicles, and sustainable infrastructure\\n* Subheading: Sustainable Cities and Urban Planning\\n\\t+ Examination of the importance of sustainable urban planning, including green spaces, efficient transportation, and waste management\\n\\t+ Examples of innovative approaches to urban planning and development\\n\\n**V. Social and Cultural Changes**\\n\\n* Subheading: The Evolving Nature of Work-Life Balance and Social Interactions\\n\\t+ Discussion of the impact of technology on social relationships, mental health, and work-life balance\\n\\t+ Analysis of the potential for remote work, virtual reality, and social media to shape social norms\\n* Subheading: The Future of Education and Lifelong Learning\\n\\t+ Examination of the need for continuous skills training and education in a rapidly changing job market\\n\\t+ Discussion of innovative approaches to education, including online learning platforms and AI-powered adaptive learning\\n\\n**VI. Conclusion**\\n\\n* Recap of the key themes and predictions for the world in 2030\\n* Final thoughts on the importance of collaboration, innovation, and adaptability in shaping a better future for all.\\n\\nNote: This outline is just a starting point, and you can customize it to fit your specific ideas and perspectives on the topic.', 'content': \"**The World in 2030: A Future of Transformation and Innovation**\\n\\n**I. Introduction**\\n\\nIn the past few decades, the world has witnessed unprecedented technological advancements, global shifts, and environmental concerns. As we look towards the future, it's clear that the next decade will bring even more rapid and profound changes. By 2030, the world will have undergone significant transformations, driven by technological innovations, shifting global power dynamics, and environmental concerns. In this blog post, we'll explore the potential future of our world and the implications for humanity.\\n\\n**II. Technological Advancements**\\n\\n### The Rise of AI, Robotics, and Quantum Computing\\n\\nArtificial intelligence, robotics, and quantum computing are expected to make tremendous progress in the next decade. AI will become even more integrated into our daily lives, from healthcare to finance to education. For instance, AI-powered diagnosis will revolutionize healthcare, enabling quicker and more accurate disease detection. In finance, AI will optimize investment decisions and mitigate risks. In education, AI-adaptive learning will personalize learning experiences for students.\\n\\nRobotics will also see significant advancements, with robots becoming more human-like in their ability to interact with their environment. This will lead to increased automation in industries such as manufacturing, logistics, and healthcare. Quantum computing, still in its infancy, will begin to demonstrate its potential in areas like cryptography, materials science, and climate modeling.\\n\\n### The Internet of Things (IoT) and 5G Networks\\n\\nThe Internet of Things (IoT) and 5G networks will enable greater connectivity and data exchange between devices. This will have far-reaching implications for smart cities, transportation, and energy management. Imagine cities where traffic flows smoothly, energy consumption is optimized, and waste management is efficient. With IoT and 5G, this vision will become a reality.\\n\\n**III. Global Economy and Power Dynamics**\\n\\n### The Rise of Emerging Markets and Shift in Global Economic Power\\n\\nThe next decade will witness the continued rise of emerging markets, particularly in Asia and Africa. Countries like China, India, and Nigeria will become even more influential in global trade, investment, and economic growth. This shift in economic power will lead to new opportunities and challenges, including the potential for increased economic interdependence and competition.\\n\\n### The Future of Work and the Impact of Automation\\n\\nAutomation will undoubtedly change the nature of work, with both positive and negative consequences. While automation will create new job opportunities, it will also displace certain jobs. It's essential that we prepare workers for the future by investing in skills training and education. Governments, businesses, and educators must work together to ensure that workers are equipped to thrive in an automated economy.\\n\\n**IV. Environmental Sustainability**\\n\\n### The Fight Against Climate Change and Energy Transition\\n\\nClimate change is one of the most pressing issues of our time, and the next decade will be critical in our fight against it. We can expect to see a significant shift towards renewable energy sources, electric vehicles, and sustainable infrastructure. Governments, corporations, and individuals must work together to reduce carbon emissions and transition to a low-carbon economy.\\n\\n### Sustainable Cities and Urban Planning\\n\\nAs the world urbanizes, sustainable urban planning will become increasingly important. This includes designing cities with green spaces, efficient transportation systems, and waste management. Innovative approaches to urban planning, such as vertical farming and green roofs, will also become more prevalent.\\n\\n**V. Social and Cultural Changes**\\n\\n### The Evolving Nature of Work-Life Balance and Social Interactions\\n\\nThe next decade will see significant changes in how we interact with each other and balance our work and personal lives. Technology will continue to shape social norms, and remote work, virtual reality, and social media will become even more integral to our lives. It's essential that we prioritize mental health, work-life balance, and meaningful social connections.\\n\\n### The Future of Education and Lifelong Learning\\n\\nThe future of education will be characterized by continuous skills training and education. With the rise of automation, workers will need to upskill and reskill to remain relevant in the job market. Online learning platforms, AI-powered adaptive learning, and other innovative approaches will become essential tools for lifelong learning.\\n\\n**VI. Conclusion**\\n\\nThe world in 2030 will be vastly different from the one we know today. Technological innovations, shifting global power dynamics, and environmental concerns will all play a significant role in shaping our future. As we look to the future, it's essential that we prioritize collaboration, innovation, and adaptability. By working together, we can create a better world for all, where technology, economic growth, and environmental sustainability coexist in harmony.\"}\n"
     ]
    }
   ],
   "source": [
    "intial_state = {'title': 'World in 2030'}\n",
    "\n",
    "final_state = workflow.invoke(intial_state)\n",
    "\n",
    "print(final_state)"
   ]
  },
  {
   "cell_type": "code",
   "execution_count": 24,
   "id": "1ef62a1b",
   "metadata": {},
   "outputs": [
    {
     "name": "stdout",
     "output_type": "stream",
     "text": [
      "Here is a suggested outline for a blog post on the title \"World in 2030\":\n",
      "\n",
      "**I. Introduction**\n",
      "\n",
      "* Brief overview of the rapid pace of technological advancements and global changes\n",
      "* Thesis statement: By 2030, the world will have undergone significant transformations, driven by technological innovations, shifting global power dynamics, and environmental concerns.\n",
      "\n",
      "**II. Technological Advancements**\n",
      "\n",
      "* Subheading: The Rise of AI, Robotics, and Quantum Computing\n",
      "\t+ Discussion of the expected advancements in artificial intelligence, robotics, and quantum computing\n",
      "\t+ Examples of potential applications in industries such as healthcare, finance, and education\n",
      "* Subheading: The Internet of Things (IoT) and 5G Networks\n",
      "\t+ Explanation of how IoT and 5G networks will enable greater connectivity and data exchange\n",
      "\t+ Potential implications for smart cities, transportation, and energy management\n",
      "\n",
      "**III. Global Economy and Power Dynamics**\n",
      "\n",
      "* Subheading: The Rise of Emerging Markets and Shift in Global Economic Power\n",
      "\t+ Analysis of the growing economic influence of countries such as China, India, and Africa\n",
      "\t+ Discussion of the potential implications for global trade, investment, and economic growth\n",
      "* Subheading: The Future of Work and the Impact of Automation\n",
      "\t+ Examination of the effects of automation on employment, including the potential for job displacement and creation\n",
      "\t+ Discussion of the need for skills training and education to prepare workers for the future\n",
      "\n",
      "**IV. Environmental Sustainability**\n",
      "\n",
      "* Subheading: The Fight Against Climate Change and Energy Transition\n",
      "\t+ Overview of the current state of climate change and the urgent need for action\n",
      "\t+ Discussion of the shift towards renewable energy sources, electric vehicles, and sustainable infrastructure\n",
      "* Subheading: Sustainable Cities and Urban Planning\n",
      "\t+ Examination of the importance of sustainable urban planning, including green spaces, efficient transportation, and waste management\n",
      "\t+ Examples of innovative approaches to urban planning and development\n",
      "\n",
      "**V. Social and Cultural Changes**\n",
      "\n",
      "* Subheading: The Evolving Nature of Work-Life Balance and Social Interactions\n",
      "\t+ Discussion of the impact of technology on social relationships, mental health, and work-life balance\n",
      "\t+ Analysis of the potential for remote work, virtual reality, and social media to shape social norms\n",
      "* Subheading: The Future of Education and Lifelong Learning\n",
      "\t+ Examination of the need for continuous skills training and education in a rapidly changing job market\n",
      "\t+ Discussion of innovative approaches to education, including online learning platforms and AI-powered adaptive learning\n",
      "\n",
      "**VI. Conclusion**\n",
      "\n",
      "* Recap of the key themes and predictions for the world in 2030\n",
      "* Final thoughts on the importance of collaboration, innovation, and adaptability in shaping a better future for all.\n",
      "\n",
      "Note: This outline is just a starting point, and you can customize it to fit your specific ideas and perspectives on the topic.\n"
     ]
    }
   ],
   "source": [
    "print(final_state['outline'])"
   ]
  },
  {
   "cell_type": "code",
   "execution_count": 25,
   "id": "389144ab",
   "metadata": {},
   "outputs": [
    {
     "name": "stdout",
     "output_type": "stream",
     "text": [
      "**The World in 2030: A Future of Transformation and Innovation**\n",
      "\n",
      "**I. Introduction**\n",
      "\n",
      "In the past few decades, the world has witnessed unprecedented technological advancements, global shifts, and environmental concerns. As we look towards the future, it's clear that the next decade will bring even more rapid and profound changes. By 2030, the world will have undergone significant transformations, driven by technological innovations, shifting global power dynamics, and environmental concerns. In this blog post, we'll explore the potential future of our world and the implications for humanity.\n",
      "\n",
      "**II. Technological Advancements**\n",
      "\n",
      "### The Rise of AI, Robotics, and Quantum Computing\n",
      "\n",
      "Artificial intelligence, robotics, and quantum computing are expected to make tremendous progress in the next decade. AI will become even more integrated into our daily lives, from healthcare to finance to education. For instance, AI-powered diagnosis will revolutionize healthcare, enabling quicker and more accurate disease detection. In finance, AI will optimize investment decisions and mitigate risks. In education, AI-adaptive learning will personalize learning experiences for students.\n",
      "\n",
      "Robotics will also see significant advancements, with robots becoming more human-like in their ability to interact with their environment. This will lead to increased automation in industries such as manufacturing, logistics, and healthcare. Quantum computing, still in its infancy, will begin to demonstrate its potential in areas like cryptography, materials science, and climate modeling.\n",
      "\n",
      "### The Internet of Things (IoT) and 5G Networks\n",
      "\n",
      "The Internet of Things (IoT) and 5G networks will enable greater connectivity and data exchange between devices. This will have far-reaching implications for smart cities, transportation, and energy management. Imagine cities where traffic flows smoothly, energy consumption is optimized, and waste management is efficient. With IoT and 5G, this vision will become a reality.\n",
      "\n",
      "**III. Global Economy and Power Dynamics**\n",
      "\n",
      "### The Rise of Emerging Markets and Shift in Global Economic Power\n",
      "\n",
      "The next decade will witness the continued rise of emerging markets, particularly in Asia and Africa. Countries like China, India, and Nigeria will become even more influential in global trade, investment, and economic growth. This shift in economic power will lead to new opportunities and challenges, including the potential for increased economic interdependence and competition.\n",
      "\n",
      "### The Future of Work and the Impact of Automation\n",
      "\n",
      "Automation will undoubtedly change the nature of work, with both positive and negative consequences. While automation will create new job opportunities, it will also displace certain jobs. It's essential that we prepare workers for the future by investing in skills training and education. Governments, businesses, and educators must work together to ensure that workers are equipped to thrive in an automated economy.\n",
      "\n",
      "**IV. Environmental Sustainability**\n",
      "\n",
      "### The Fight Against Climate Change and Energy Transition\n",
      "\n",
      "Climate change is one of the most pressing issues of our time, and the next decade will be critical in our fight against it. We can expect to see a significant shift towards renewable energy sources, electric vehicles, and sustainable infrastructure. Governments, corporations, and individuals must work together to reduce carbon emissions and transition to a low-carbon economy.\n",
      "\n",
      "### Sustainable Cities and Urban Planning\n",
      "\n",
      "As the world urbanizes, sustainable urban planning will become increasingly important. This includes designing cities with green spaces, efficient transportation systems, and waste management. Innovative approaches to urban planning, such as vertical farming and green roofs, will also become more prevalent.\n",
      "\n",
      "**V. Social and Cultural Changes**\n",
      "\n",
      "### The Evolving Nature of Work-Life Balance and Social Interactions\n",
      "\n",
      "The next decade will see significant changes in how we interact with each other and balance our work and personal lives. Technology will continue to shape social norms, and remote work, virtual reality, and social media will become even more integral to our lives. It's essential that we prioritize mental health, work-life balance, and meaningful social connections.\n",
      "\n",
      "### The Future of Education and Lifelong Learning\n",
      "\n",
      "The future of education will be characterized by continuous skills training and education. With the rise of automation, workers will need to upskill and reskill to remain relevant in the job market. Online learning platforms, AI-powered adaptive learning, and other innovative approaches will become essential tools for lifelong learning.\n",
      "\n",
      "**VI. Conclusion**\n",
      "\n",
      "The world in 2030 will be vastly different from the one we know today. Technological innovations, shifting global power dynamics, and environmental concerns will all play a significant role in shaping our future. As we look to the future, it's essential that we prioritize collaboration, innovation, and adaptability. By working together, we can create a better world for all, where technology, economic growth, and environmental sustainability coexist in harmony.\n"
     ]
    }
   ],
   "source": [
    "print(final_state['content'])"
   ]
  },
  {
   "cell_type": "code",
   "execution_count": null,
   "id": "77d6765c-a5e2-4d1b-982d-ac986d1de810",
   "metadata": {},
   "outputs": [],
   "source": []
  }
 ],
 "metadata": {
  "kernelspec": {
   "display_name": "Python (myenv)",
   "language": "python",
   "name": "myenv"
  },
  "language_info": {
   "codemirror_mode": {
    "name": "ipython",
    "version": 3
   },
   "file_extension": ".py",
   "mimetype": "text/x-python",
   "name": "python",
   "nbconvert_exporter": "python",
   "pygments_lexer": "ipython3",
   "version": "3.13.1"
  }
 },
 "nbformat": 4,
 "nbformat_minor": 5
}
