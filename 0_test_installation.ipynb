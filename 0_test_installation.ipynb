{
 "cells": [
  {
   "cell_type": "code",
   "execution_count": 3,
   "id": "74f3a36d",
   "metadata": {},
   "outputs": [],
   "source": [
    "from langgraph.graph import StateGraph"
   ]
  },
  {
   "cell_type": "code",
   "execution_count": 5,
   "id": "65ae49b7",
   "metadata": {},
   "outputs": [
    {
     "name": "stdout",
     "output_type": "stream",
     "text": [
      "All dependencies imported successfully!\n",
      "Langchain version: 0.3.27\n",
      "LangGraph version: 0.5.3\n"
     ]
    }
   ],
   "source": [
    "# Test all key dependencies\n",
    "import jupyter\n",
    "import ipykernel\n",
    "import langchain\n",
    "import langgraph\n",
    "from importlib.metadata import version\n",
    "\n",
    "print(\"All dependencies imported successfully!\")\n",
    "print(f\"Langchain version: {langchain.__version__}\")\n",
    "print(\"LangGraph version:\", version(\"langgraph\"))\n",
    "#print(f\"Langgraph version: {langgraph.__version__}\")\n"
   ]
  },
  {
   "cell_type": "code",
   "execution_count": null,
   "id": "7c652b67",
   "metadata": {},
   "outputs": [],
   "source": []
  }
 ],
 "metadata": {
  "kernelspec": {
   "display_name": "myenv",
   "language": "python",
   "name": "python3"
  },
  "language_info": {
   "codemirror_mode": {
    "name": "ipython",
    "version": 3
   },
   "file_extension": ".py",
   "mimetype": "text/x-python",
   "name": "python",
   "nbconvert_exporter": "python",
   "pygments_lexer": "ipython3",
   "version": "3.13.1"
  }
 },
 "nbformat": 4,
 "nbformat_minor": 5
}
